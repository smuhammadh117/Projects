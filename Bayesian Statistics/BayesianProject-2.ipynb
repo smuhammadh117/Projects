{
 "cells": [
  {
   "cell_type": "code",
   "execution_count": 1,
   "id": "083116c8-f416-4394-853e-1ec91b3d5d7b",
   "metadata": {},
   "outputs": [
    {
     "name": "stdout",
     "output_type": "stream",
     "text": [
      "(29, 5)\n",
      "(29,)\n"
     ]
    }
   ],
   "source": [
    "import numpy as np\n",
    "import pymc as pm\n",
    "import pandas as pd\n",
    "import arviz as az\n",
    "from pymc.math import dot, invlogit\n",
    "import pytensor.tensor as pt\n",
    "import math\n",
    "import os\n",
    "import statsmodels.api as sm\n",
    "import matplotlib.pyplot as plt\n",
    "import statsmodels.api as sm\n",
    "from statsmodels.graphics.api import abline_plot\n",
    "\n",
    "os.chdir(\"C:/Users/466131/Documents/Baye\")\n",
    "\n",
    "data = pd.read_csv(\"MMAProject.csv\", index_col=0)\n",
    "X = data[[\"SA\",\"SD\",\"KO\",\"SS\",\"GI\"]].to_numpy()\n",
    "y = data[\"y\"].to_numpy()\n",
    "\n",
    "# y = np.reshape(y, (-1, 1))\n",
    "\n",
    "print(X.shape)\n",
    "print(y.shape)\n",
    "n=26"
   ]
  },
  {
   "cell_type": "code",
   "execution_count": 2,
   "id": "f144ff5c-9851-48c9-bcc5-d1ade9e15f41",
   "metadata": {
    "tags": []
   },
   "outputs": [
    {
     "name": "stderr",
     "output_type": "stream",
     "text": [
      "Auto-assigning NUTS sampler...\n",
      "Initializing NUTS using jitter+adapt_diag...\n",
      "Multiprocess sampling (4 chains in 4 jobs)\n",
      "NUTS: [alpha, beta]\n"
     ]
    },
    {
     "data": {
      "text/html": [
       "\n",
       "<style>\n",
       "    /* Turns off some styling */\n",
       "    progress {\n",
       "        /* gets rid of default border in Firefox and Opera. */\n",
       "        border: none;\n",
       "        /* Needs to be in here for Safari polyfill so background images work as expected. */\n",
       "        background-size: auto;\n",
       "    }\n",
       "    progress:not([value]), progress:not([value])::-webkit-progress-bar {\n",
       "        background: repeating-linear-gradient(45deg, #7e7e7e, #7e7e7e 10px, #5c5c5c 10px, #5c5c5c 20px);\n",
       "    }\n",
       "    .progress-bar-interrupted, .progress-bar-interrupted::-webkit-progress-bar {\n",
       "        background: #F44336;\n",
       "    }\n",
       "</style>\n"
      ],
      "text/plain": [
       "<IPython.core.display.HTML object>"
      ]
     },
     "metadata": {},
     "output_type": "display_data"
    },
    {
     "data": {
      "text/html": [
       "\n",
       "    <div>\n",
       "      <progress value='8000' class='' max='8000' style='width:300px; height:20px; vertical-align: middle;'></progress>\n",
       "      100.00% [8000/8000 01:21&lt;00:00 Sampling 4 chains, 0 divergences]\n",
       "    </div>\n",
       "    "
      ],
      "text/plain": [
       "<IPython.core.display.HTML object>"
      ]
     },
     "metadata": {},
     "output_type": "display_data"
    },
    {
     "name": "stderr",
     "output_type": "stream",
     "text": [
      "Sampling 4 chains for 1_000 tune and 1_000 draw iterations (4_000 + 4_000 draws total) took 224 seconds.\n",
      "Sampling: [y]\n"
     ]
    },
    {
     "name": "stdout",
     "output_type": "stream",
     "text": [
      "          mean     sd  hdi_3%  hdi_97%  mcse_mean  mcse_sd  ess_bulk  \\\n",
      "alpha   -4.328  1.876  -7.845   -0.809      0.052    0.037    1296.0   \n",
      "beta[0] -0.236  0.094  -0.419   -0.069      0.002    0.001    2013.0   \n",
      "beta[1]  2.268  0.708   0.999    3.645      0.015    0.011    2204.0   \n",
      "beta[2]  1.469  0.518   0.526    2.474      0.014    0.010    1309.0   \n",
      "beta[3]  5.610  1.314   3.170    8.014      0.034    0.024    1483.0   \n",
      "\n",
      "         ess_tail  r_hat  \n",
      "alpha      1618.0    1.0  \n",
      "beta[0]    2298.0    1.0  \n",
      "beta[1]    2266.0    1.0  \n",
      "beta[2]    1645.0    1.0  \n",
      "beta[3]    1943.0    1.0  \n"
     ]
    },
    {
     "data": {
      "text/html": [
       "\n",
       "<style>\n",
       "    /* Turns off some styling */\n",
       "    progress {\n",
       "        /* gets rid of default border in Firefox and Opera. */\n",
       "        border: none;\n",
       "        /* Needs to be in here for Safari polyfill so background images work as expected. */\n",
       "        background-size: auto;\n",
       "    }\n",
       "    progress:not([value]), progress:not([value])::-webkit-progress-bar {\n",
       "        background: repeating-linear-gradient(45deg, #7e7e7e, #7e7e7e 10px, #5c5c5c 10px, #5c5c5c 20px);\n",
       "    }\n",
       "    .progress-bar-interrupted, .progress-bar-interrupted::-webkit-progress-bar {\n",
       "        background: #F44336;\n",
       "    }\n",
       "</style>\n"
      ],
      "text/plain": [
       "<IPython.core.display.HTML object>"
      ]
     },
     "metadata": {},
     "output_type": "display_data"
    },
    {
     "data": {
      "text/html": [
       "\n",
       "    <div>\n",
       "      <progress value='4000' class='' max='4000' style='width:300px; height:20px; vertical-align: middle;'></progress>\n",
       "      100.00% [4000/4000 00:00&lt;00:00]\n",
       "    </div>\n",
       "    "
      ],
      "text/plain": [
       "<IPython.core.display.HTML object>"
      ]
     },
     "metadata": {},
     "output_type": "display_data"
    },
    {
     "name": "stderr",
     "output_type": "stream",
     "text": [
      "C:\\Users\\466131\\AppData\\Local\\anaconda3\\envs\\pymc_env\\Lib\\site-packages\\arviz\\stats\\stats.py:1351: UserWarning: Selecting first found group: posterior_predictive\n",
      "  warnings.warn(f\"Selecting first found group: {data.groups()[0]}\")\n"
     ]
    },
    {
     "data": {
      "text/html": [
       "\n",
       "<style>\n",
       "    /* Turns off some styling */\n",
       "    progress {\n",
       "        /* gets rid of default border in Firefox and Opera. */\n",
       "        border: none;\n",
       "        /* Needs to be in here for Safari polyfill so background images work as expected. */\n",
       "        background-size: auto;\n",
       "    }\n",
       "    progress:not([value]), progress:not([value])::-webkit-progress-bar {\n",
       "        background: repeating-linear-gradient(45deg, #7e7e7e, #7e7e7e 10px, #5c5c5c 10px, #5c5c5c 20px);\n",
       "    }\n",
       "    .progress-bar-interrupted, .progress-bar-interrupted::-webkit-progress-bar {\n",
       "        background: #F44336;\n",
       "    }\n",
       "</style>\n"
      ],
      "text/plain": [
       "<IPython.core.display.HTML object>"
      ]
     },
     "metadata": {},
     "output_type": "display_data"
    },
    {
     "data": {
      "text/html": [
       "\n",
       "    <div>\n",
       "      <progress value='4000' class='' max='4000' style='width:300px; height:20px; vertical-align: middle;'></progress>\n",
       "      100.00% [4000/4000 00:00&lt;00:00]\n",
       "    </div>\n",
       "    "
      ],
      "text/plain": [
       "<IPython.core.display.HTML object>"
      ]
     },
     "metadata": {},
     "output_type": "display_data"
    },
    {
     "name": "stdout",
     "output_type": "stream",
     "text": [
      "Computed from 4000 posterior samples and 29 observations log-likelihood matrix.\n",
      "\n",
      "              Estimate       SE\n",
      "deviance_waic   121.41     9.31\n",
      "p_waic            5.58        -\n",
      "\n",
      "There has been a warning during the calculation. Please check the results.\n",
      "r2        0.566048\n",
      "r2_std    0.000000\n",
      "dtype: float64\n",
      "[25.657 21.189 22.319 23.194 23.352 24.33  22.763 20.57  20.032 19.792\n",
      " 21.614 22.232 20.786 20.058 23.162 18.488 20.714 21.61  20.388 22.251\n",
      " 21.062 20.526 22.986 25.871 23.135 25.372 20.109 17.096 19.366]\n"
     ]
    },
    {
     "name": "stderr",
     "output_type": "stream",
     "text": [
      "C:\\Users\\466131\\AppData\\Local\\anaconda3\\envs\\pymc_env\\Lib\\site-packages\\arviz\\stats\\stats.py:1645: UserWarning: For one or more samples the posterior variance of the log predictive densities exceeds 0.4. This could be indication of WAIC starting to fail. \n",
      "See http://arxiv.org/abs/1507.04544 for details\n",
      "  warnings.warn(\n"
     ]
    }
   ],
   "source": [
    "#removing strike defense\n",
    "\n",
    "os.chdir(\"C:/Users/466131/Documents/Baye\")\n",
    "\n",
    "data = pd.read_csv(\"MMAProject.csv\", index_col=0)\n",
    "X = data[[\"SA\",\"KO\",\"SS\",\"GI\"]].to_numpy()\n",
    "y = data[\"y\"].to_numpy()\n",
    "\n",
    "\n",
    "with pm.Model() as m2:\n",
    "    if __name__ == '__main__':\n",
    "\n",
    "        X_data = pm.Data(\"X_data\", X, mutable=True)\n",
    "        y_data = pm.Data(\"y_data\", y, mutable=True)\n",
    "\n",
    "        alpha = pm.Normal(\"alpha\", mu=0, sigma=10)\n",
    "        betas = pm.Normal(\"beta\", mu=0, sigma=5, shape=X.shape[1])\n",
    "\n",
    "        p = invlogit(alpha + dot(X_data, betas))\n",
    "\n",
    "        pm.Binomial(\"y\",n=26, p=p, observed=y_data)\n",
    "\n",
    "        trace = pm.sample(1000)\n",
    "        print(az.summary(trace))\n",
    "        \n",
    "        ppc = pm.sample_posterior_predictive(trace,var_names = ['y'])\n",
    "        yhat=(az.summary(ppc,var_names=['y'])['mean'].values)\n",
    "        r2 = az.r2_score(y, yhat)\n",
    "        data = az.convert_to_inference_data(trace)\n",
    "        idata = pm.compute_log_likelihood(data)\n",
    "        dev = az.waic(idata,scale=\"deviance\",var_name=\"y\")\n",
    "        print(dev)\n",
    "        print(r2)\n",
    "        print(yhat)"
   ]
  },
  {
   "cell_type": "code",
   "execution_count": 3,
   "id": "fb223eb3-0f76-4cdc-b943-293bd712dead",
   "metadata": {
    "tags": []
   },
   "outputs": [
    {
     "name": "stderr",
     "output_type": "stream",
     "text": [
      "Auto-assigning NUTS sampler...\n",
      "Initializing NUTS using jitter+adapt_diag...\n",
      "Multiprocess sampling (4 chains in 4 jobs)\n",
      "NUTS: [alpha, beta]\n"
     ]
    },
    {
     "data": {
      "text/html": [
       "\n",
       "<style>\n",
       "    /* Turns off some styling */\n",
       "    progress {\n",
       "        /* gets rid of default border in Firefox and Opera. */\n",
       "        border: none;\n",
       "        /* Needs to be in here for Safari polyfill so background images work as expected. */\n",
       "        background-size: auto;\n",
       "    }\n",
       "    progress:not([value]), progress:not([value])::-webkit-progress-bar {\n",
       "        background: repeating-linear-gradient(45deg, #7e7e7e, #7e7e7e 10px, #5c5c5c 10px, #5c5c5c 20px);\n",
       "    }\n",
       "    .progress-bar-interrupted, .progress-bar-interrupted::-webkit-progress-bar {\n",
       "        background: #F44336;\n",
       "    }\n",
       "</style>\n"
      ],
      "text/plain": [
       "<IPython.core.display.HTML object>"
      ]
     },
     "metadata": {},
     "output_type": "display_data"
    },
    {
     "data": {
      "text/html": [
       "\n",
       "    <div>\n",
       "      <progress value='8000' class='' max='8000' style='width:300px; height:20px; vertical-align: middle;'></progress>\n",
       "      100.00% [8000/8000 01:09&lt;00:00 Sampling 4 chains, 0 divergences]\n",
       "    </div>\n",
       "    "
      ],
      "text/plain": [
       "<IPython.core.display.HTML object>"
      ]
     },
     "metadata": {},
     "output_type": "display_data"
    },
    {
     "name": "stderr",
     "output_type": "stream",
     "text": [
      "Sampling 4 chains for 1_000 tune and 1_000 draw iterations (4_000 + 4_000 draws total) took 213 seconds.\n",
      "Sampling: [y]\n"
     ]
    },
    {
     "name": "stdout",
     "output_type": "stream",
     "text": [
      "          mean     sd  hdi_3%  hdi_97%  mcse_mean  mcse_sd  ess_bulk  \\\n",
      "alpha   -6.029  2.188 -10.122   -1.926      0.062    0.044    1268.0   \n",
      "beta[0]  5.381  2.066   1.473    9.230      0.044    0.032    2170.0   \n",
      "beta[1]  2.232  0.684   0.979    3.536      0.015    0.011    1967.0   \n",
      "beta[2]  0.890  0.515  -0.087    1.827      0.014    0.010    1280.0   \n",
      "beta[3]  5.058  1.339   2.621    7.546      0.035    0.025    1470.0   \n",
      "\n",
      "         ess_tail  r_hat  \n",
      "alpha      1608.0    1.0  \n",
      "beta[0]    2302.0    1.0  \n",
      "beta[1]    1983.0    1.0  \n",
      "beta[2]    1756.0    1.0  \n",
      "beta[3]    2196.0    1.0  \n"
     ]
    },
    {
     "data": {
      "text/html": [
       "\n",
       "<style>\n",
       "    /* Turns off some styling */\n",
       "    progress {\n",
       "        /* gets rid of default border in Firefox and Opera. */\n",
       "        border: none;\n",
       "        /* Needs to be in here for Safari polyfill so background images work as expected. */\n",
       "        background-size: auto;\n",
       "    }\n",
       "    progress:not([value]), progress:not([value])::-webkit-progress-bar {\n",
       "        background: repeating-linear-gradient(45deg, #7e7e7e, #7e7e7e 10px, #5c5c5c 10px, #5c5c5c 20px);\n",
       "    }\n",
       "    .progress-bar-interrupted, .progress-bar-interrupted::-webkit-progress-bar {\n",
       "        background: #F44336;\n",
       "    }\n",
       "</style>\n"
      ],
      "text/plain": [
       "<IPython.core.display.HTML object>"
      ]
     },
     "metadata": {},
     "output_type": "display_data"
    },
    {
     "data": {
      "text/html": [
       "\n",
       "    <div>\n",
       "      <progress value='4000' class='' max='4000' style='width:300px; height:20px; vertical-align: middle;'></progress>\n",
       "      100.00% [4000/4000 00:00&lt;00:00]\n",
       "    </div>\n",
       "    "
      ],
      "text/plain": [
       "<IPython.core.display.HTML object>"
      ]
     },
     "metadata": {},
     "output_type": "display_data"
    },
    {
     "name": "stderr",
     "output_type": "stream",
     "text": [
      "C:\\Users\\466131\\AppData\\Local\\anaconda3\\envs\\pymc_env\\Lib\\site-packages\\arviz\\stats\\stats.py:1351: UserWarning: Selecting first found group: posterior_predictive\n",
      "  warnings.warn(f\"Selecting first found group: {data.groups()[0]}\")\n"
     ]
    },
    {
     "data": {
      "text/html": [
       "\n",
       "<style>\n",
       "    /* Turns off some styling */\n",
       "    progress {\n",
       "        /* gets rid of default border in Firefox and Opera. */\n",
       "        border: none;\n",
       "        /* Needs to be in here for Safari polyfill so background images work as expected. */\n",
       "        background-size: auto;\n",
       "    }\n",
       "    progress:not([value]), progress:not([value])::-webkit-progress-bar {\n",
       "        background: repeating-linear-gradient(45deg, #7e7e7e, #7e7e7e 10px, #5c5c5c 10px, #5c5c5c 20px);\n",
       "    }\n",
       "    .progress-bar-interrupted, .progress-bar-interrupted::-webkit-progress-bar {\n",
       "        background: #F44336;\n",
       "    }\n",
       "</style>\n"
      ],
      "text/plain": [
       "<IPython.core.display.HTML object>"
      ]
     },
     "metadata": {},
     "output_type": "display_data"
    },
    {
     "data": {
      "text/html": [
       "\n",
       "    <div>\n",
       "      <progress value='4000' class='' max='4000' style='width:300px; height:20px; vertical-align: middle;'></progress>\n",
       "      100.00% [4000/4000 00:00&lt;00:00]\n",
       "    </div>\n",
       "    "
      ],
      "text/plain": [
       "<IPython.core.display.HTML object>"
      ]
     },
     "metadata": {},
     "output_type": "display_data"
    },
    {
     "name": "stdout",
     "output_type": "stream",
     "text": [
      "Computed from 4000 posterior samples and 29 observations log-likelihood matrix.\n",
      "\n",
      "              Estimate       SE\n",
      "deviance_waic   119.65    10.37\n",
      "p_waic            5.69        -\n",
      "\n",
      "There has been a warning during the calculation. Please check the results.\n",
      "r2        0.572634\n",
      "r2_std    0.000000\n",
      "dtype: float64\n",
      "[25.796 21.912 22.182 22.439 23.633 24.04  23.064 22.647 21.177 19.852\n",
      " 19.776 21.273 21.908 20.205 23.581 20.411 20.59  21.93  20.801 18.836\n",
      " 20.454 20.899 22.718 25.782 21.739 25.58  20.276 18.064 18.507]\n"
     ]
    },
    {
     "name": "stderr",
     "output_type": "stream",
     "text": [
      "C:\\Users\\466131\\AppData\\Local\\anaconda3\\envs\\pymc_env\\Lib\\site-packages\\arviz\\stats\\stats.py:1645: UserWarning: For one or more samples the posterior variance of the log predictive densities exceeds 0.4. This could be indication of WAIC starting to fail. \n",
      "See http://arxiv.org/abs/1507.04544 for details\n",
      "  warnings.warn(\n"
     ]
    }
   ],
   "source": [
    "#removing strikes absorbed\n",
    "os.chdir(\"C:/Users/466131/Documents/Baye\")\n",
    "\n",
    "data = pd.read_csv(\"MMAProject.csv\", index_col=0)\n",
    "X = data[[\"SD\",\"KO\",\"SS\",\"GI\"]].to_numpy()\n",
    "y = data[\"y\"].to_numpy()\n",
    "\n",
    "\n",
    "with pm.Model() as m3:\n",
    "    if __name__ == '__main__':\n",
    "\n",
    "        X_data = pm.Data(\"X_data\", X, mutable=True)\n",
    "        y_data = pm.Data(\"y_data\", y, mutable=True)\n",
    "\n",
    "        alpha = pm.Normal(\"alpha\", mu=0, sigma=10)\n",
    "        betas = pm.Normal(\"beta\", mu=0, sigma=5, shape=X.shape[1])\n",
    "\n",
    "        p = invlogit(alpha + dot(X_data, betas))\n",
    "\n",
    "        pm.Binomial(\"y\",n=26, p=p, observed=y_data)\n",
    "\n",
    "        trace = pm.sample(1000)\n",
    "        print(az.summary(trace))\n",
    "        \n",
    "        \n",
    "        ppc = pm.sample_posterior_predictive(trace,var_names = ['y'])\n",
    "        yhat=(az.summary(ppc,var_names=['y'])['mean'].values)\n",
    "        r2 = az.r2_score(y, yhat)\n",
    "        data = az.convert_to_inference_data(trace)\n",
    "        idata = pm.compute_log_likelihood(data)\n",
    "        dev = az.waic(idata,scale=\"deviance\",var_name=\"y\")\n",
    "        print(dev)\n",
    "        print(r2)\n",
    "        print(yhat)"
   ]
  },
  {
   "cell_type": "code",
   "execution_count": 4,
   "id": "c2c95420-fba9-4b88-ade9-3efa2dd81720",
   "metadata": {
    "tags": []
   },
   "outputs": [
    {
     "name": "stderr",
     "output_type": "stream",
     "text": [
      "Auto-assigning NUTS sampler...\n",
      "Initializing NUTS using jitter+adapt_diag...\n",
      "Multiprocess sampling (4 chains in 4 jobs)\n",
      "NUTS: [alpha, beta]\n"
     ]
    },
    {
     "data": {
      "text/html": [
       "\n",
       "<style>\n",
       "    /* Turns off some styling */\n",
       "    progress {\n",
       "        /* gets rid of default border in Firefox and Opera. */\n",
       "        border: none;\n",
       "        /* Needs to be in here for Safari polyfill so background images work as expected. */\n",
       "        background-size: auto;\n",
       "    }\n",
       "    progress:not([value]), progress:not([value])::-webkit-progress-bar {\n",
       "        background: repeating-linear-gradient(45deg, #7e7e7e, #7e7e7e 10px, #5c5c5c 10px, #5c5c5c 20px);\n",
       "    }\n",
       "    .progress-bar-interrupted, .progress-bar-interrupted::-webkit-progress-bar {\n",
       "        background: #F44336;\n",
       "    }\n",
       "</style>\n"
      ],
      "text/plain": [
       "<IPython.core.display.HTML object>"
      ]
     },
     "metadata": {},
     "output_type": "display_data"
    },
    {
     "data": {
      "text/html": [
       "\n",
       "    <div>\n",
       "      <progress value='8000' class='' max='8000' style='width:300px; height:20px; vertical-align: middle;'></progress>\n",
       "      100.00% [8000/8000 01:08&lt;00:00 Sampling 4 chains, 0 divergences]\n",
       "    </div>\n",
       "    "
      ],
      "text/plain": [
       "<IPython.core.display.HTML object>"
      ]
     },
     "metadata": {},
     "output_type": "display_data"
    },
    {
     "name": "stderr",
     "output_type": "stream",
     "text": [
      "Sampling 4 chains for 1_000 tune and 1_000 draw iterations (4_000 + 4_000 draws total) took 198 seconds.\n",
      "Sampling: [y]\n"
     ]
    },
    {
     "name": "stdout",
     "output_type": "stream",
     "text": [
      "          mean     sd  hdi_3%  hdi_97%  mcse_mean  mcse_sd  ess_bulk  \\\n",
      "alpha   -5.136  2.062  -9.082   -1.316      0.055    0.039    1404.0   \n",
      "beta[0] -0.082  0.091  -0.242    0.106      0.002    0.002    2288.0   \n",
      "beta[1]  2.728  2.048  -1.110    6.643      0.048    0.034    1817.0   \n",
      "beta[2]  1.384  0.506   0.405    2.291      0.013    0.009    1474.0   \n",
      "beta[3]  4.604  1.063   2.560    6.493      0.026    0.018    1746.0   \n",
      "\n",
      "         ess_tail  r_hat  \n",
      "alpha      1648.0    1.0  \n",
      "beta[0]    1990.0    1.0  \n",
      "beta[1]    1602.0    1.0  \n",
      "beta[2]    1694.0    1.0  \n",
      "beta[3]    2068.0    1.0  \n"
     ]
    },
    {
     "data": {
      "text/html": [
       "\n",
       "<style>\n",
       "    /* Turns off some styling */\n",
       "    progress {\n",
       "        /* gets rid of default border in Firefox and Opera. */\n",
       "        border: none;\n",
       "        /* Needs to be in here for Safari polyfill so background images work as expected. */\n",
       "        background-size: auto;\n",
       "    }\n",
       "    progress:not([value]), progress:not([value])::-webkit-progress-bar {\n",
       "        background: repeating-linear-gradient(45deg, #7e7e7e, #7e7e7e 10px, #5c5c5c 10px, #5c5c5c 20px);\n",
       "    }\n",
       "    .progress-bar-interrupted, .progress-bar-interrupted::-webkit-progress-bar {\n",
       "        background: #F44336;\n",
       "    }\n",
       "</style>\n"
      ],
      "text/plain": [
       "<IPython.core.display.HTML object>"
      ]
     },
     "metadata": {},
     "output_type": "display_data"
    },
    {
     "data": {
      "text/html": [
       "\n",
       "    <div>\n",
       "      <progress value='4000' class='' max='4000' style='width:300px; height:20px; vertical-align: middle;'></progress>\n",
       "      100.00% [4000/4000 00:00&lt;00:00]\n",
       "    </div>\n",
       "    "
      ],
      "text/plain": [
       "<IPython.core.display.HTML object>"
      ]
     },
     "metadata": {},
     "output_type": "display_data"
    },
    {
     "name": "stderr",
     "output_type": "stream",
     "text": [
      "C:\\Users\\466131\\AppData\\Local\\anaconda3\\envs\\pymc_env\\Lib\\site-packages\\arviz\\stats\\stats.py:1351: UserWarning: Selecting first found group: posterior_predictive\n",
      "  warnings.warn(f\"Selecting first found group: {data.groups()[0]}\")\n"
     ]
    },
    {
     "data": {
      "text/html": [
       "\n",
       "<style>\n",
       "    /* Turns off some styling */\n",
       "    progress {\n",
       "        /* gets rid of default border in Firefox and Opera. */\n",
       "        border: none;\n",
       "        /* Needs to be in here for Safari polyfill so background images work as expected. */\n",
       "        background-size: auto;\n",
       "    }\n",
       "    progress:not([value]), progress:not([value])::-webkit-progress-bar {\n",
       "        background: repeating-linear-gradient(45deg, #7e7e7e, #7e7e7e 10px, #5c5c5c 10px, #5c5c5c 20px);\n",
       "    }\n",
       "    .progress-bar-interrupted, .progress-bar-interrupted::-webkit-progress-bar {\n",
       "        background: #F44336;\n",
       "    }\n",
       "</style>\n"
      ],
      "text/plain": [
       "<IPython.core.display.HTML object>"
      ]
     },
     "metadata": {},
     "output_type": "display_data"
    },
    {
     "data": {
      "text/html": [
       "\n",
       "    <div>\n",
       "      <progress value='4000' class='' max='4000' style='width:300px; height:20px; vertical-align: middle;'></progress>\n",
       "      100.00% [4000/4000 00:00&lt;00:00]\n",
       "    </div>\n",
       "    "
      ],
      "text/plain": [
       "<IPython.core.display.HTML object>"
      ]
     },
     "metadata": {},
     "output_type": "display_data"
    },
    {
     "name": "stdout",
     "output_type": "stream",
     "text": [
      "Computed from 4000 posterior samples and 29 observations log-likelihood matrix.\n",
      "\n",
      "              Estimate       SE\n",
      "deviance_waic   131.40    12.71\n",
      "p_waic            6.82        -\n",
      "\n",
      "There has been a warning during the calculation. Please check the results.\n",
      "r2        0.419717\n",
      "r2_std    0.000000\n",
      "dtype: float64\n",
      "[25.452 19.002 22.206 21.772 22.473 24.202 22.768 20.094 21.686 21.781\n",
      " 21.588 21.411 22.445 21.562 23.104 20.175 22.096 21.411 18.944 19.11\n",
      " 21.93  18.838 22.718 25.51  20.992 25.288 21.173 18.93  21.207]\n"
     ]
    },
    {
     "name": "stderr",
     "output_type": "stream",
     "text": [
      "C:\\Users\\466131\\AppData\\Local\\anaconda3\\envs\\pymc_env\\Lib\\site-packages\\arviz\\stats\\stats.py:1645: UserWarning: For one or more samples the posterior variance of the log predictive densities exceeds 0.4. This could be indication of WAIC starting to fail. \n",
      "See http://arxiv.org/abs/1507.04544 for details\n",
      "  warnings.warn(\n"
     ]
    }
   ],
   "source": [
    "#removing KO proportion\n",
    "os.chdir(\"C:/Users/466131/Documents/Baye\")\n",
    "\n",
    "data = pd.read_csv(\"MMAProject.csv\", index_col=0)\n",
    "X = data[[\"SA\",\"SD\",\"SS\",\"GI\"]].to_numpy()\n",
    "y = data[\"y\"].to_numpy()\n",
    "\n",
    "\n",
    "with pm.Model() as m4:\n",
    "    if __name__ == '__main__':\n",
    "\n",
    "        X_data = pm.Data(\"X_data\", X, mutable=True)\n",
    "        y_data = pm.Data(\"y_data\", y, mutable=True)\n",
    "\n",
    "        alpha = pm.Normal(\"alpha\", mu=0, sigma=10)\n",
    "        betas = pm.Normal(\"beta\", mu=0, sigma=5, shape=X.shape[1])\n",
    "\n",
    "        p = invlogit(alpha + dot(X_data, betas))\n",
    "\n",
    "        pm.Binomial(\"y\",n=26, p=p, observed=y_data)\n",
    "\n",
    "        trace = pm.sample(1000)\n",
    "        print(az.summary(trace))\n",
    "        \n",
    "        \n",
    "        ppc = pm.sample_posterior_predictive(trace,var_names = ['y'])\n",
    "        yhat=(az.summary(ppc,var_names=['y'])['mean'].values)\n",
    "        r2 = az.r2_score(y, yhat)\n",
    "        data = az.convert_to_inference_data(trace)\n",
    "        idata = pm.compute_log_likelihood(data)\n",
    "        dev = az.waic(idata,scale=\"deviance\",var_name=\"y\")\n",
    "        print(dev)\n",
    "        print(r2)\n",
    "        print(yhat)"
   ]
  },
  {
   "cell_type": "code",
   "execution_count": 5,
   "id": "524f3efa-02e6-41c3-8424-4a453ea057b6",
   "metadata": {
    "tags": []
   },
   "outputs": [
    {
     "name": "stderr",
     "output_type": "stream",
     "text": [
      "Auto-assigning NUTS sampler...\n",
      "Initializing NUTS using jitter+adapt_diag...\n",
      "Multiprocess sampling (4 chains in 4 jobs)\n",
      "NUTS: [alpha, beta]\n"
     ]
    },
    {
     "data": {
      "text/html": [
       "\n",
       "<style>\n",
       "    /* Turns off some styling */\n",
       "    progress {\n",
       "        /* gets rid of default border in Firefox and Opera. */\n",
       "        border: none;\n",
       "        /* Needs to be in here for Safari polyfill so background images work as expected. */\n",
       "        background-size: auto;\n",
       "    }\n",
       "    progress:not([value]), progress:not([value])::-webkit-progress-bar {\n",
       "        background: repeating-linear-gradient(45deg, #7e7e7e, #7e7e7e 10px, #5c5c5c 10px, #5c5c5c 20px);\n",
       "    }\n",
       "    .progress-bar-interrupted, .progress-bar-interrupted::-webkit-progress-bar {\n",
       "        background: #F44336;\n",
       "    }\n",
       "</style>\n"
      ],
      "text/plain": [
       "<IPython.core.display.HTML object>"
      ]
     },
     "metadata": {},
     "output_type": "display_data"
    },
    {
     "data": {
      "text/html": [
       "\n",
       "    <div>\n",
       "      <progress value='8000' class='' max='8000' style='width:300px; height:20px; vertical-align: middle;'></progress>\n",
       "      100.00% [8000/8000 00:47&lt;00:00 Sampling 4 chains, 0 divergences]\n",
       "    </div>\n",
       "    "
      ],
      "text/plain": [
       "<IPython.core.display.HTML object>"
      ]
     },
     "metadata": {},
     "output_type": "display_data"
    },
    {
     "name": "stderr",
     "output_type": "stream",
     "text": [
      "Sampling 4 chains for 1_000 tune and 1_000 draw iterations (4_000 + 4_000 draws total) took 177 seconds.\n",
      "Sampling: [y]\n"
     ]
    },
    {
     "name": "stdout",
     "output_type": "stream",
     "text": [
      "          mean     sd  hdi_3%  hdi_97%  mcse_mean  mcse_sd  ess_bulk  \\\n",
      "alpha   -2.373  1.346  -5.070   -0.016      0.033    0.024    1638.0   \n",
      "beta[0] -0.109  0.094  -0.278    0.069      0.002    0.002    1997.0   \n",
      "beta[1]  5.334  2.083   1.433    9.251      0.049    0.034    1842.0   \n",
      "beta[2]  2.694  0.717   1.311    3.982      0.016    0.011    2015.0   \n",
      "beta[3]  3.254  0.946   1.477    4.907      0.020    0.015    2316.0   \n",
      "\n",
      "         ess_tail  r_hat  \n",
      "alpha      1686.0    1.0  \n",
      "beta[0]    2234.0    1.0  \n",
      "beta[1]    2121.0    1.0  \n",
      "beta[2]    2333.0    1.0  \n",
      "beta[3]    1762.0    1.0  \n"
     ]
    },
    {
     "data": {
      "text/html": [
       "\n",
       "<style>\n",
       "    /* Turns off some styling */\n",
       "    progress {\n",
       "        /* gets rid of default border in Firefox and Opera. */\n",
       "        border: none;\n",
       "        /* Needs to be in here for Safari polyfill so background images work as expected. */\n",
       "        background-size: auto;\n",
       "    }\n",
       "    progress:not([value]), progress:not([value])::-webkit-progress-bar {\n",
       "        background: repeating-linear-gradient(45deg, #7e7e7e, #7e7e7e 10px, #5c5c5c 10px, #5c5c5c 20px);\n",
       "    }\n",
       "    .progress-bar-interrupted, .progress-bar-interrupted::-webkit-progress-bar {\n",
       "        background: #F44336;\n",
       "    }\n",
       "</style>\n"
      ],
      "text/plain": [
       "<IPython.core.display.HTML object>"
      ]
     },
     "metadata": {},
     "output_type": "display_data"
    },
    {
     "data": {
      "text/html": [
       "\n",
       "    <div>\n",
       "      <progress value='4000' class='' max='4000' style='width:300px; height:20px; vertical-align: middle;'></progress>\n",
       "      100.00% [4000/4000 00:00&lt;00:00]\n",
       "    </div>\n",
       "    "
      ],
      "text/plain": [
       "<IPython.core.display.HTML object>"
      ]
     },
     "metadata": {},
     "output_type": "display_data"
    },
    {
     "name": "stderr",
     "output_type": "stream",
     "text": [
      "C:\\Users\\466131\\AppData\\Local\\anaconda3\\envs\\pymc_env\\Lib\\site-packages\\arviz\\stats\\stats.py:1351: UserWarning: Selecting first found group: posterior_predictive\n",
      "  warnings.warn(f\"Selecting first found group: {data.groups()[0]}\")\n"
     ]
    },
    {
     "data": {
      "text/html": [
       "\n",
       "<style>\n",
       "    /* Turns off some styling */\n",
       "    progress {\n",
       "        /* gets rid of default border in Firefox and Opera. */\n",
       "        border: none;\n",
       "        /* Needs to be in here for Safari polyfill so background images work as expected. */\n",
       "        background-size: auto;\n",
       "    }\n",
       "    progress:not([value]), progress:not([value])::-webkit-progress-bar {\n",
       "        background: repeating-linear-gradient(45deg, #7e7e7e, #7e7e7e 10px, #5c5c5c 10px, #5c5c5c 20px);\n",
       "    }\n",
       "    .progress-bar-interrupted, .progress-bar-interrupted::-webkit-progress-bar {\n",
       "        background: #F44336;\n",
       "    }\n",
       "</style>\n"
      ],
      "text/plain": [
       "<IPython.core.display.HTML object>"
      ]
     },
     "metadata": {},
     "output_type": "display_data"
    },
    {
     "data": {
      "text/html": [
       "\n",
       "    <div>\n",
       "      <progress value='4000' class='' max='4000' style='width:300px; height:20px; vertical-align: middle;'></progress>\n",
       "      100.00% [4000/4000 00:00&lt;00:00]\n",
       "    </div>\n",
       "    "
      ],
      "text/plain": [
       "<IPython.core.display.HTML object>"
      ]
     },
     "metadata": {},
     "output_type": "display_data"
    },
    {
     "name": "stdout",
     "output_type": "stream",
     "text": [
      "Computed from 4000 posterior samples and 29 observations log-likelihood matrix.\n",
      "\n",
      "              Estimate       SE\n",
      "deviance_waic   121.19    12.62\n",
      "p_waic            4.84        -\n",
      "\n",
      "There has been a warning during the calculation. Please check the results.\n",
      "r2        0.520584\n",
      "r2_std    0.000000\n",
      "dtype: float64\n",
      "[25.788 22.649 21.452 22.473 23.537 24.117 23.425 21.132 19.976 19.27\n",
      " 20.11  21.96  20.766 19.863 22.886 20.852 21.07  22.309 23.038 20.203\n",
      " 20.041 20.037 22.808 25.684 21.794 25.521 19.448 20.084 17.925]\n"
     ]
    },
    {
     "name": "stderr",
     "output_type": "stream",
     "text": [
      "C:\\Users\\466131\\AppData\\Local\\anaconda3\\envs\\pymc_env\\Lib\\site-packages\\arviz\\stats\\stats.py:1645: UserWarning: For one or more samples the posterior variance of the log predictive densities exceeds 0.4. This could be indication of WAIC starting to fail. \n",
      "See http://arxiv.org/abs/1507.04544 for details\n",
      "  warnings.warn(\n"
     ]
    }
   ],
   "source": [
    "#removing strikes per minute while standing\n",
    "os.chdir(\"C:/Users/466131/Documents/Baye\")\n",
    "\n",
    "data = pd.read_csv(\"MMAProject.csv\", index_col=0)\n",
    "X = data[[\"SA\",\"SD\",\"KO\",\"GI\"]].to_numpy()\n",
    "y = data[\"y\"].to_numpy()\n",
    "\n",
    "\n",
    "with pm.Model() as m5:\n",
    "    if __name__ == '__main__':\n",
    "\n",
    "        X_data = pm.Data(\"X_data\", X, mutable=True)\n",
    "        y_data = pm.Data(\"y_data\", y, mutable=True)\n",
    "\n",
    "        alpha = pm.Normal(\"alpha\", mu=0, sigma=10)\n",
    "        betas = pm.Normal(\"beta\", mu=0, sigma=5, shape=X.shape[1])\n",
    "\n",
    "        p = invlogit(alpha + dot(X_data, betas))\n",
    "\n",
    "        pm.Binomial(\"y\",n=26, p=p, observed=y_data)\n",
    "\n",
    "        trace = pm.sample(1000)\n",
    "        print(az.summary(trace))\n",
    "        \n",
    "        \n",
    "        ppc = pm.sample_posterior_predictive(trace,var_names = ['y'])\n",
    "        yhat=(az.summary(ppc,var_names=['y'])['mean'].values)\n",
    "        r2 = az.r2_score(y, yhat)\n",
    "        data = az.convert_to_inference_data(trace)\n",
    "        idata = pm.compute_log_likelihood(data)\n",
    "        dev = az.waic(idata,scale=\"deviance\",var_name=\"y\")\n",
    "        print(dev)\n",
    "        print(r2)\n",
    "        print(yhat)"
   ]
  },
  {
   "cell_type": "code",
   "execution_count": 6,
   "id": "df4c0782-725f-4891-b81b-fceaa6f77dd0",
   "metadata": {
    "tags": []
   },
   "outputs": [
    {
     "name": "stderr",
     "output_type": "stream",
     "text": [
      "Auto-assigning NUTS sampler...\n",
      "Initializing NUTS using jitter+adapt_diag...\n",
      "Multiprocess sampling (4 chains in 4 jobs)\n",
      "NUTS: [alpha, beta]\n"
     ]
    },
    {
     "data": {
      "text/html": [
       "\n",
       "<style>\n",
       "    /* Turns off some styling */\n",
       "    progress {\n",
       "        /* gets rid of default border in Firefox and Opera. */\n",
       "        border: none;\n",
       "        /* Needs to be in here for Safari polyfill so background images work as expected. */\n",
       "        background-size: auto;\n",
       "    }\n",
       "    progress:not([value]), progress:not([value])::-webkit-progress-bar {\n",
       "        background: repeating-linear-gradient(45deg, #7e7e7e, #7e7e7e 10px, #5c5c5c 10px, #5c5c5c 20px);\n",
       "    }\n",
       "    .progress-bar-interrupted, .progress-bar-interrupted::-webkit-progress-bar {\n",
       "        background: #F44336;\n",
       "    }\n",
       "</style>\n"
      ],
      "text/plain": [
       "<IPython.core.display.HTML object>"
      ]
     },
     "metadata": {},
     "output_type": "display_data"
    },
    {
     "data": {
      "text/html": [
       "\n",
       "    <div>\n",
       "      <progress value='8000' class='' max='8000' style='width:300px; height:20px; vertical-align: middle;'></progress>\n",
       "      100.00% [8000/8000 00:52&lt;00:00 Sampling 4 chains, 0 divergences]\n",
       "    </div>\n",
       "    "
      ],
      "text/plain": [
       "<IPython.core.display.HTML object>"
      ]
     },
     "metadata": {},
     "output_type": "display_data"
    },
    {
     "name": "stderr",
     "output_type": "stream",
     "text": [
      "Sampling 4 chains for 1_000 tune and 1_000 draw iterations (4_000 + 4_000 draws total) took 182 seconds.\n",
      "Sampling: [y]\n"
     ]
    },
    {
     "name": "stdout",
     "output_type": "stream",
     "text": [
      "          mean     sd  hdi_3%  hdi_97%  mcse_mean  mcse_sd  ess_bulk  \\\n",
      "alpha    1.039  1.380  -1.670    3.498      0.033    0.026    1814.0   \n",
      "beta[0] -0.121  0.096  -0.304    0.058      0.002    0.001    2355.0   \n",
      "beta[1]  5.374  2.026   1.445    9.125      0.047    0.034    1856.0   \n",
      "beta[2]  2.443  0.687   1.142    3.715      0.013    0.010    2622.0   \n",
      "beta[3] -0.812  0.292  -1.378   -0.297      0.006    0.004    2420.0   \n",
      "\n",
      "         ess_tail  r_hat  \n",
      "alpha      1934.0    1.0  \n",
      "beta[0]    1992.0    1.0  \n",
      "beta[1]    1984.0    1.0  \n",
      "beta[2]    1967.0    1.0  \n",
      "beta[3]    2117.0    1.0  \n"
     ]
    },
    {
     "data": {
      "text/html": [
       "\n",
       "<style>\n",
       "    /* Turns off some styling */\n",
       "    progress {\n",
       "        /* gets rid of default border in Firefox and Opera. */\n",
       "        border: none;\n",
       "        /* Needs to be in here for Safari polyfill so background images work as expected. */\n",
       "        background-size: auto;\n",
       "    }\n",
       "    progress:not([value]), progress:not([value])::-webkit-progress-bar {\n",
       "        background: repeating-linear-gradient(45deg, #7e7e7e, #7e7e7e 10px, #5c5c5c 10px, #5c5c5c 20px);\n",
       "    }\n",
       "    .progress-bar-interrupted, .progress-bar-interrupted::-webkit-progress-bar {\n",
       "        background: #F44336;\n",
       "    }\n",
       "</style>\n"
      ],
      "text/plain": [
       "<IPython.core.display.HTML object>"
      ]
     },
     "metadata": {},
     "output_type": "display_data"
    },
    {
     "data": {
      "text/html": [
       "\n",
       "    <div>\n",
       "      <progress value='4000' class='' max='4000' style='width:300px; height:20px; vertical-align: middle;'></progress>\n",
       "      100.00% [4000/4000 00:00&lt;00:00]\n",
       "    </div>\n",
       "    "
      ],
      "text/plain": [
       "<IPython.core.display.HTML object>"
      ]
     },
     "metadata": {},
     "output_type": "display_data"
    },
    {
     "name": "stderr",
     "output_type": "stream",
     "text": [
      "C:\\Users\\466131\\AppData\\Local\\anaconda3\\envs\\pymc_env\\Lib\\site-packages\\arviz\\stats\\stats.py:1351: UserWarning: Selecting first found group: posterior_predictive\n",
      "  warnings.warn(f\"Selecting first found group: {data.groups()[0]}\")\n"
     ]
    },
    {
     "data": {
      "text/html": [
       "\n",
       "<style>\n",
       "    /* Turns off some styling */\n",
       "    progress {\n",
       "        /* gets rid of default border in Firefox and Opera. */\n",
       "        border: none;\n",
       "        /* Needs to be in here for Safari polyfill so background images work as expected. */\n",
       "        background-size: auto;\n",
       "    }\n",
       "    progress:not([value]), progress:not([value])::-webkit-progress-bar {\n",
       "        background: repeating-linear-gradient(45deg, #7e7e7e, #7e7e7e 10px, #5c5c5c 10px, #5c5c5c 20px);\n",
       "    }\n",
       "    .progress-bar-interrupted, .progress-bar-interrupted::-webkit-progress-bar {\n",
       "        background: #F44336;\n",
       "    }\n",
       "</style>\n"
      ],
      "text/plain": [
       "<IPython.core.display.HTML object>"
      ]
     },
     "metadata": {},
     "output_type": "display_data"
    },
    {
     "data": {
      "text/html": [
       "\n",
       "    <div>\n",
       "      <progress value='4000' class='' max='4000' style='width:300px; height:20px; vertical-align: middle;'></progress>\n",
       "      100.00% [4000/4000 00:00&lt;00:00]\n",
       "    </div>\n",
       "    "
      ],
      "text/plain": [
       "<IPython.core.display.HTML object>"
      ]
     },
     "metadata": {},
     "output_type": "display_data"
    },
    {
     "name": "stdout",
     "output_type": "stream",
     "text": [
      "Computed from 4000 posterior samples and 29 observations log-likelihood matrix.\n",
      "\n",
      "              Estimate       SE\n",
      "deviance_waic   139.63    19.00\n",
      "p_waic            7.46        -\n",
      "\n",
      "There has been a warning during the calculation. Please check the results.\n",
      "r2        0.345525\n",
      "r2_std    0.000000\n",
      "dtype: float64\n",
      "[25.198 23.268 20.525 22.538 23.4   23.055 23.378 20.756 20.138 19.48\n",
      " 20.496 22.05  20.666 20.593 21.338 21.65  21.166 22.604 24.079 20.958\n",
      " 19.827 20.219 22.825 23.64  21.777 24.759 19.859 21.753 18.154]\n"
     ]
    },
    {
     "name": "stderr",
     "output_type": "stream",
     "text": [
      "C:\\Users\\466131\\AppData\\Local\\anaconda3\\envs\\pymc_env\\Lib\\site-packages\\arviz\\stats\\stats.py:1645: UserWarning: For one or more samples the posterior variance of the log predictive densities exceeds 0.4. This could be indication of WAIC starting to fail. \n",
      "See http://arxiv.org/abs/1507.04544 for details\n",
      "  warnings.warn(\n"
     ]
    }
   ],
   "source": [
    "#removing impact of fighter on the ground\n",
    "\n",
    "os.chdir(\"C:/Users/466131/Documents/Baye\")\n",
    "\n",
    "data = pd.read_csv(\"MMAProject.csv\", index_col=0)\n",
    "X = data[[\"SA\",\"SD\",\"KO\",\"SS\"]].to_numpy()\n",
    "y = data[\"y\"].to_numpy()\n",
    "\n",
    "\n",
    "with pm.Model() as m6:\n",
    "    if __name__ == '__main__':\n",
    "\n",
    "        X_data = pm.Data(\"X_data\", X, mutable=True)\n",
    "        y_data = pm.Data(\"y_data\", y, mutable=True)\n",
    "\n",
    "        alpha = pm.Normal(\"alpha\", mu=0, sigma=10)\n",
    "        betas = pm.Normal(\"beta\", mu=0, sigma=5, shape=X.shape[1])\n",
    "\n",
    "        p = invlogit(alpha + dot(X_data, betas))\n",
    "\n",
    "        pm.Binomial(\"y\",n=26, p=p, observed=y_data)\n",
    "\n",
    "        trace = pm.sample(1000)\n",
    "        print(az.summary(trace))\n",
    "        \n",
    "        \n",
    "        ppc = pm.sample_posterior_predictive(trace,var_names = ['y'])\n",
    "        yhat=(az.summary(ppc,var_names=['y'])['mean'].values)\n",
    "        r2 = az.r2_score(y, yhat)\n",
    "        data = az.convert_to_inference_data(trace)\n",
    "        idata = pm.compute_log_likelihood(data)\n",
    "        dev = az.waic(idata,scale=\"deviance\",var_name=\"y\")\n",
    "        print(dev)\n",
    "        print(r2)\n",
    "        print(yhat)"
   ]
  },
  {
   "cell_type": "code",
   "execution_count": 7,
   "id": "55a88dcb-6ddb-4a83-b8fb-d294f98711cb",
   "metadata": {},
   "outputs": [
    {
     "name": "stdout",
     "output_type": "stream",
     "text": [
      "                 Generalized Linear Model Regression Results                  \n",
      "==============================================================================\n",
      "Dep. Variable:                      y   No. Observations:                   29\n",
      "Model:                            GLM   Df Residuals:                       23\n",
      "Model Family:                Binomial   Df Model:                            5\n",
      "Link Function:                  Logit   Scale:                          1.0000\n",
      "Method:                          IRLS   Log-Likelihood:                -8.4698\n",
      "Date:                Sat, 20 Apr 2024   Deviance:                      0.93620\n",
      "Time:                        13:40:29   Pearson chi2:                     1.08\n",
      "No. Iterations:                     7   Pseudo R-squ. (CS):            0.06258\n",
      "Covariance Type:            nonrobust                                         \n",
      "==============================================================================\n",
      "                 coef    std err          z      P>|z|      [0.025      0.975]\n",
      "------------------------------------------------------------------------------\n",
      "const         -7.4030     11.713     -0.632      0.527     -30.360      15.554\n",
      "x1            -0.1767      0.503     -0.351      0.726      -1.163       0.810\n",
      "x2             5.5621     12.333      0.451      0.652     -18.611      29.735\n",
      "x3             2.6390      3.709      0.712      0.477      -4.630       9.908\n",
      "x4             1.3621      2.802      0.486      0.627      -4.129       6.853\n",
      "x5             5.5065      7.401      0.744      0.457      -8.999      20.012\n",
      "==============================================================================\n",
      "[25.85233636 21.53144694 21.92866244 23.29758962 24.20800209 24.5118919\n",
      " 23.64668551 21.26777656 20.85413609 19.66770378 20.71076763 21.64380365\n",
      " 22.02052172 20.52255691 23.25860661 19.33392227 20.54397531 22.05804401\n",
      " 21.21729461 19.73273607 20.28620979 19.43298631 23.7427566  25.86659859\n",
      " 22.44887157 25.73243873 19.90557331 16.92567825 17.85042679]\n"
     ]
    }
   ],
   "source": [
    "os.chdir(\"C:/Users/466131/Documents/Baye\")\n",
    "data = pd.read_csv(\"MMAProject.csv\", index_col=0)\n",
    "\n",
    "X = data[[\"SA\",\"SD\",\"KO\",\"SS\",\"GI\"]].to_numpy()\n",
    "y = data[\"y\"].to_numpy()\n",
    "\n",
    "X = sm.add_constant(X)\n",
    "log_model = sm.GLM(y/n, X, family=sm.families.Binomial())\n",
    "log_results = log_model.fit()\n",
    "\n",
    "print(log_results.summary())\n",
    "yfat = log_results.mu*n\n",
    "print(yfat)"
   ]
  },
  {
   "cell_type": "code",
   "execution_count": 8,
   "id": "8685a5f3-c7cd-4e9e-86c5-87adeb3bae4d",
   "metadata": {},
   "outputs": [],
   "source": [
    "os.chdir(\"C:/Users/466131/Documents/Baye\")\n",
    "data = pd.read_csv(\"MMAProject.csv\", index_col=0)\n",
    "\n",
    "X = data[[\"SA\",\"SD\",\"KO\",\"SS\",\"GI\"]].to_numpy()\n",
    "y = data[\"y\"].to_numpy()"
   ]
  },
  {
   "cell_type": "code",
   "execution_count": 9,
   "id": "0b373425-351f-47f0-90f0-3921b0600ff3",
   "metadata": {},
   "outputs": [
    {
     "name": "stderr",
     "output_type": "stream",
     "text": [
      "Auto-assigning NUTS sampler...\n",
      "Initializing NUTS using jitter+adapt_diag...\n",
      "Multiprocess sampling (4 chains in 4 jobs)\n",
      "NUTS: [alpha, beta]\n"
     ]
    },
    {
     "data": {
      "text/html": [
       "\n",
       "<style>\n",
       "    /* Turns off some styling */\n",
       "    progress {\n",
       "        /* gets rid of default border in Firefox and Opera. */\n",
       "        border: none;\n",
       "        /* Needs to be in here for Safari polyfill so background images work as expected. */\n",
       "        background-size: auto;\n",
       "    }\n",
       "    progress:not([value]), progress:not([value])::-webkit-progress-bar {\n",
       "        background: repeating-linear-gradient(45deg, #7e7e7e, #7e7e7e 10px, #5c5c5c 10px, #5c5c5c 20px);\n",
       "    }\n",
       "    .progress-bar-interrupted, .progress-bar-interrupted::-webkit-progress-bar {\n",
       "        background: #F44336;\n",
       "    }\n",
       "</style>\n"
      ],
      "text/plain": [
       "<IPython.core.display.HTML object>"
      ]
     },
     "metadata": {},
     "output_type": "display_data"
    },
    {
     "data": {
      "text/html": [
       "\n",
       "    <div>\n",
       "      <progress value='44000' class='' max='44000' style='width:300px; height:20px; vertical-align: middle;'></progress>\n",
       "      100.00% [44000/44000 17:44&lt;00:00 Sampling 4 chains, 0 divergences]\n",
       "    </div>\n",
       "    "
      ],
      "text/plain": [
       "<IPython.core.display.HTML object>"
      ]
     },
     "metadata": {},
     "output_type": "display_data"
    },
    {
     "name": "stderr",
     "output_type": "stream",
     "text": [
      "Sampling 4 chains for 1_000 tune and 10_000 draw iterations (4_000 + 40_000 draws total) took 1193 seconds.\n",
      "Sampling: [y]\n"
     ]
    },
    {
     "name": "stdout",
     "output_type": "stream",
     "text": [
      "          mean     sd  hdi_3%  hdi_97%  mcse_mean  mcse_sd  ess_bulk  \\\n",
      "alpha   -6.271  2.144 -10.217   -2.142      0.017    0.012   16221.0   \n",
      "beta[0] -0.182  0.097  -0.364    0.002      0.001    0.000   22511.0   \n",
      "beta[1]  4.453  2.157   0.405    8.499      0.014    0.010   23976.0   \n",
      "beta[2]  2.552  0.707   1.192    3.855      0.004    0.003   25585.0   \n",
      "beta[3]  1.245  0.533   0.230    2.231      0.004    0.003   16452.0   \n",
      "beta[4]  5.285  1.327   2.812    7.793      0.010    0.007   17469.0   \n",
      "\n",
      "         ess_tail  r_hat  \n",
      "alpha     20172.0    1.0  \n",
      "beta[0]   24077.0    1.0  \n",
      "beta[1]   23763.0    1.0  \n",
      "beta[2]   24242.0    1.0  \n",
      "beta[3]   19833.0    1.0  \n",
      "beta[4]   21887.0    1.0  \n"
     ]
    },
    {
     "data": {
      "text/html": [
       "\n",
       "<style>\n",
       "    /* Turns off some styling */\n",
       "    progress {\n",
       "        /* gets rid of default border in Firefox and Opera. */\n",
       "        border: none;\n",
       "        /* Needs to be in here for Safari polyfill so background images work as expected. */\n",
       "        background-size: auto;\n",
       "    }\n",
       "    progress:not([value]), progress:not([value])::-webkit-progress-bar {\n",
       "        background: repeating-linear-gradient(45deg, #7e7e7e, #7e7e7e 10px, #5c5c5c 10px, #5c5c5c 20px);\n",
       "    }\n",
       "    .progress-bar-interrupted, .progress-bar-interrupted::-webkit-progress-bar {\n",
       "        background: #F44336;\n",
       "    }\n",
       "</style>\n"
      ],
      "text/plain": [
       "<IPython.core.display.HTML object>"
      ]
     },
     "metadata": {},
     "output_type": "display_data"
    },
    {
     "data": {
      "text/html": [
       "\n",
       "    <div>\n",
       "      <progress value='40000' class='' max='40000' style='width:300px; height:20px; vertical-align: middle;'></progress>\n",
       "      100.00% [40000/40000 00:07&lt;00:00]\n",
       "    </div>\n",
       "    "
      ],
      "text/plain": [
       "<IPython.core.display.HTML object>"
      ]
     },
     "metadata": {},
     "output_type": "display_data"
    },
    {
     "name": "stderr",
     "output_type": "stream",
     "text": [
      "C:\\Users\\466131\\AppData\\Local\\anaconda3\\envs\\pymc_env\\Lib\\site-packages\\arviz\\stats\\stats.py:1351: UserWarning: Selecting first found group: posterior_predictive\n",
      "  warnings.warn(f\"Selecting first found group: {data.groups()[0]}\")\n"
     ]
    },
    {
     "data": {
      "text/html": [
       "\n",
       "<style>\n",
       "    /* Turns off some styling */\n",
       "    progress {\n",
       "        /* gets rid of default border in Firefox and Opera. */\n",
       "        border: none;\n",
       "        /* Needs to be in here for Safari polyfill so background images work as expected. */\n",
       "        background-size: auto;\n",
       "    }\n",
       "    progress:not([value]), progress:not([value])::-webkit-progress-bar {\n",
       "        background: repeating-linear-gradient(45deg, #7e7e7e, #7e7e7e 10px, #5c5c5c 10px, #5c5c5c 20px);\n",
       "    }\n",
       "    .progress-bar-interrupted, .progress-bar-interrupted::-webkit-progress-bar {\n",
       "        background: #F44336;\n",
       "    }\n",
       "</style>\n"
      ],
      "text/plain": [
       "<IPython.core.display.HTML object>"
      ]
     },
     "metadata": {},
     "output_type": "display_data"
    },
    {
     "data": {
      "text/html": [
       "\n",
       "    <div>\n",
       "      <progress value='40000' class='' max='40000' style='width:300px; height:20px; vertical-align: middle;'></progress>\n",
       "      100.00% [40000/40000 00:03&lt;00:00]\n",
       "    </div>\n",
       "    "
      ],
      "text/plain": [
       "<IPython.core.display.HTML object>"
      ]
     },
     "metadata": {},
     "output_type": "display_data"
    },
    {
     "name": "stdout",
     "output_type": "stream",
     "text": [
      "Computed from 40000 posterior samples and 29 observations log-likelihood matrix.\n",
      "\n",
      "              Estimate       SE\n",
      "deviance_waic   117.25     9.10\n",
      "p_waic            5.68        -\n",
      "\n",
      "There has been a warning during the calculation. Please check the results.\n",
      "r2        0.643991\n",
      "r2_std    0.000000\n",
      "dtype: float64\n",
      "[25.755 21.55  21.984 23.173 23.966 24.401 23.443 21.051 20.616 19.681\n",
      " 20.847 21.803 21.69  20.382 23.174 19.361 20.66  22.021 21.244 20.281\n",
      " 20.433 19.671 23.502 25.761 22.508 25.616 19.92  17.337 18.227]\n"
     ]
    },
    {
     "name": "stderr",
     "output_type": "stream",
     "text": [
      "C:\\Users\\466131\\AppData\\Local\\anaconda3\\envs\\pymc_env\\Lib\\site-packages\\arviz\\stats\\stats.py:1645: UserWarning: For one or more samples the posterior variance of the log predictive densities exceeds 0.4. This could be indication of WAIC starting to fail. \n",
      "See http://arxiv.org/abs/1507.04544 for details\n",
      "  warnings.warn(\n"
     ]
    }
   ],
   "source": [
    "with pm.Model() as m:\n",
    "    if __name__ == '__main__':\n",
    "\n",
    "        X_data = pm.Data(\"X_data\", X, mutable=True)\n",
    "        y_data = pm.Data(\"y_data\", y, mutable=True)\n",
    "\n",
    "        alpha = pm.Normal(\"alpha\", mu=0, sigma=10)\n",
    "        betas = pm.Normal(\"beta\", mu=0, sigma=5, shape=X.shape[1])\n",
    "\n",
    "        p = invlogit(alpha + dot(X_data, betas))\n",
    "\n",
    "        pm.Binomial(\"y\",n=26, p=p, observed=y_data)\n",
    "\n",
    "        trace = pm.sample(10000,target_accept=0.99)\n",
    "        print(az.summary(trace))\n",
    "        \n",
    "        ppc = pm.sample_posterior_predictive(trace,var_names = ['y'])\n",
    "        yhat=(az.summary(ppc,var_names=['y'])['mean'].values)\n",
    "        r2 = az.r2_score(y, yhat)\n",
    "        data = az.convert_to_inference_data(trace)\n",
    "        idata = pm.compute_log_likelihood(data)\n",
    "        dev = az.waic(idata,scale=\"deviance\",var_name=\"y\")\n",
    "        print(dev)\n",
    "        print(r2)\n",
    "        print(yhat)"
   ]
  },
  {
   "cell_type": "code",
   "execution_count": 10,
   "id": "b93804f4-28f1-4f9c-9cbe-a9973c347a43",
   "metadata": {
    "tags": []
   },
   "outputs": [
    {
     "name": "stderr",
     "output_type": "stream",
     "text": [
      "Sampling: [y]\n"
     ]
    },
    {
     "data": {
      "text/html": [
       "\n",
       "<style>\n",
       "    /* Turns off some styling */\n",
       "    progress {\n",
       "        /* gets rid of default border in Firefox and Opera. */\n",
       "        border: none;\n",
       "        /* Needs to be in here for Safari polyfill so background images work as expected. */\n",
       "        background-size: auto;\n",
       "    }\n",
       "    progress:not([value]), progress:not([value])::-webkit-progress-bar {\n",
       "        background: repeating-linear-gradient(45deg, #7e7e7e, #7e7e7e 10px, #5c5c5c 10px, #5c5c5c 20px);\n",
       "    }\n",
       "    .progress-bar-interrupted, .progress-bar-interrupted::-webkit-progress-bar {\n",
       "        background: #F44336;\n",
       "    }\n",
       "</style>\n"
      ],
      "text/plain": [
       "<IPython.core.display.HTML object>"
      ]
     },
     "metadata": {},
     "output_type": "display_data"
    },
    {
     "data": {
      "text/html": [
       "\n",
       "    <div>\n",
       "      <progress value='40000' class='' max='40000' style='width:300px; height:20px; vertical-align: middle;'></progress>\n",
       "      100.00% [40000/40000 00:08&lt;00:00]\n",
       "    </div>\n",
       "    "
      ],
      "text/plain": [
       "<IPython.core.display.HTML object>"
      ]
     },
     "metadata": {},
     "output_type": "display_data"
    },
    {
     "name": "stderr",
     "output_type": "stream",
     "text": [
      "C:\\Users\\466131\\AppData\\Local\\anaconda3\\envs\\pymc_env\\Lib\\site-packages\\arviz\\stats\\stats.py:1351: UserWarning: Selecting first found group: predictions\n",
      "  warnings.warn(f\"Selecting first found group: {data.groups()[0]}\")\n",
      "Sampling: [y]\n"
     ]
    },
    {
     "data": {
      "text/html": [
       "\n",
       "<style>\n",
       "    /* Turns off some styling */\n",
       "    progress {\n",
       "        /* gets rid of default border in Firefox and Opera. */\n",
       "        border: none;\n",
       "        /* Needs to be in here for Safari polyfill so background images work as expected. */\n",
       "        background-size: auto;\n",
       "    }\n",
       "    progress:not([value]), progress:not([value])::-webkit-progress-bar {\n",
       "        background: repeating-linear-gradient(45deg, #7e7e7e, #7e7e7e 10px, #5c5c5c 10px, #5c5c5c 20px);\n",
       "    }\n",
       "    .progress-bar-interrupted, .progress-bar-interrupted::-webkit-progress-bar {\n",
       "        background: #F44336;\n",
       "    }\n",
       "</style>\n"
      ],
      "text/plain": [
       "<IPython.core.display.HTML object>"
      ]
     },
     "metadata": {},
     "output_type": "display_data"
    },
    {
     "data": {
      "text/html": [
       "\n",
       "    <div>\n",
       "      <progress value='40000' class='' max='40000' style='width:300px; height:20px; vertical-align: middle;'></progress>\n",
       "      100.00% [40000/40000 00:07&lt;00:00]\n",
       "    </div>\n",
       "    "
      ],
      "text/plain": [
       "<IPython.core.display.HTML object>"
      ]
     },
     "metadata": {},
     "output_type": "display_data"
    },
    {
     "name": "stderr",
     "output_type": "stream",
     "text": [
      "C:\\Users\\466131\\AppData\\Local\\anaconda3\\envs\\pymc_env\\Lib\\site-packages\\arviz\\stats\\stats.py:1351: UserWarning: Selecting first found group: predictions\n",
      "  warnings.warn(f\"Selecting first found group: {data.groups()[0]}\")\n"
     ]
    },
    {
     "name": "stdout",
     "output_type": "stream",
     "text": [
      "Sterling has a 59.93343810668392 % impact on the fight compared to Yan\n"
     ]
    }
   ],
   "source": [
    "#Yan vs Sterling\n",
    "\n",
    "#Impact of Sterling on Yan\n",
    "X_c = (X[15,:]-X[16,:])\n",
    "X_c = np.reshape(X_c, (-1, 1))\n",
    "X_c = X_c.T\n",
    "\n",
    "#Impact of Yan on Sterling\n",
    "X_c2 = (X[16,:]-X[15,:])\n",
    "X_c2 = np.reshape(X_c2, (-1, 1))\n",
    "X_c2 = X_c2.T\n",
    "\n",
    "with m:        \n",
    "            n=26\n",
    "            pm.set_data({\"X_data\": X_c})\n",
    "            ppki = pm.sample_posterior_predictive(trace, predictions=True)\n",
    "            j = np.mean(az.summary(ppki,var_names=\"y\")['mean'].values)/n\n",
    "        \n",
    "with m:\n",
    "            n=26\n",
    "            pm.set_data({\"X_data\": X_c2})\n",
    "            ppki2 = pm.sample_posterior_predictive(trace, predictions=True)\n",
    "            j2 = np.mean(az.summary(ppki2,var_names=\"y\")['mean'].values)/n\n",
    "            \n",
    "with m:\n",
    "    if j>j2:\n",
    "        print(\"Yan has a \" +str(j/(j+j2)*100)+ \" % impact on the fight compared to Sterling.\")\n",
    "    else:\n",
    "        print(\"Sterling has a \" +str(j2/(j+j2)*100)+ \" % impact on the fight compared to Yan\")"
   ]
  },
  {
   "cell_type": "code",
   "execution_count": 11,
   "id": "014b15b8-494b-4bc5-94e6-2ac653de3594",
   "metadata": {
    "tags": []
   },
   "outputs": [
    {
     "name": "stderr",
     "output_type": "stream",
     "text": [
      "Sampling: [y]\n"
     ]
    },
    {
     "data": {
      "text/html": [
       "\n",
       "<style>\n",
       "    /* Turns off some styling */\n",
       "    progress {\n",
       "        /* gets rid of default border in Firefox and Opera. */\n",
       "        border: none;\n",
       "        /* Needs to be in here for Safari polyfill so background images work as expected. */\n",
       "        background-size: auto;\n",
       "    }\n",
       "    progress:not([value]), progress:not([value])::-webkit-progress-bar {\n",
       "        background: repeating-linear-gradient(45deg, #7e7e7e, #7e7e7e 10px, #5c5c5c 10px, #5c5c5c 20px);\n",
       "    }\n",
       "    .progress-bar-interrupted, .progress-bar-interrupted::-webkit-progress-bar {\n",
       "        background: #F44336;\n",
       "    }\n",
       "</style>\n"
      ],
      "text/plain": [
       "<IPython.core.display.HTML object>"
      ]
     },
     "metadata": {},
     "output_type": "display_data"
    },
    {
     "data": {
      "text/html": [
       "\n",
       "    <div>\n",
       "      <progress value='40000' class='' max='40000' style='width:300px; height:20px; vertical-align: middle;'></progress>\n",
       "      100.00% [40000/40000 00:07&lt;00:00]\n",
       "    </div>\n",
       "    "
      ],
      "text/plain": [
       "<IPython.core.display.HTML object>"
      ]
     },
     "metadata": {},
     "output_type": "display_data"
    },
    {
     "name": "stderr",
     "output_type": "stream",
     "text": [
      "C:\\Users\\466131\\AppData\\Local\\anaconda3\\envs\\pymc_env\\Lib\\site-packages\\arviz\\stats\\stats.py:1351: UserWarning: Selecting first found group: predictions\n",
      "  warnings.warn(f\"Selecting first found group: {data.groups()[0]}\")\n",
      "Sampling: [y]\n"
     ]
    },
    {
     "data": {
      "text/html": [
       "\n",
       "<style>\n",
       "    /* Turns off some styling */\n",
       "    progress {\n",
       "        /* gets rid of default border in Firefox and Opera. */\n",
       "        border: none;\n",
       "        /* Needs to be in here for Safari polyfill so background images work as expected. */\n",
       "        background-size: auto;\n",
       "    }\n",
       "    progress:not([value]), progress:not([value])::-webkit-progress-bar {\n",
       "        background: repeating-linear-gradient(45deg, #7e7e7e, #7e7e7e 10px, #5c5c5c 10px, #5c5c5c 20px);\n",
       "    }\n",
       "    .progress-bar-interrupted, .progress-bar-interrupted::-webkit-progress-bar {\n",
       "        background: #F44336;\n",
       "    }\n",
       "</style>\n"
      ],
      "text/plain": [
       "<IPython.core.display.HTML object>"
      ]
     },
     "metadata": {},
     "output_type": "display_data"
    },
    {
     "data": {
      "text/html": [
       "\n",
       "    <div>\n",
       "      <progress value='40000' class='' max='40000' style='width:300px; height:20px; vertical-align: middle;'></progress>\n",
       "      100.00% [40000/40000 00:08&lt;00:00]\n",
       "    </div>\n",
       "    "
      ],
      "text/plain": [
       "<IPython.core.display.HTML object>"
      ]
     },
     "metadata": {},
     "output_type": "display_data"
    },
    {
     "name": "stderr",
     "output_type": "stream",
     "text": [
      "C:\\Users\\466131\\AppData\\Local\\anaconda3\\envs\\pymc_env\\Lib\\site-packages\\arviz\\stats\\stats.py:1351: UserWarning: Selecting first found group: predictions\n",
      "  warnings.warn(f\"Selecting first found group: {data.groups()[0]}\")\n"
     ]
    },
    {
     "name": "stdout",
     "output_type": "stream",
     "text": [
      "McGregor has a 70.5271842973771 % impact on the fight with Holloway\n"
     ]
    }
   ],
   "source": [
    "#McGregor vs Holloway\n",
    "\n",
    "#Impact of Holloway on McGregor\n",
    "X_pa = (X[1,:]-X[8,:])\n",
    "X_pa = np.reshape(X_pa, (-1, 1))\n",
    "X_pa = X_pa.T\n",
    "\n",
    "#Impact of McGregor on Holloway\n",
    "X_pa2 = (X[8,:]-X[1,:])\n",
    "X_pa2 = np.reshape(X_pa2, (-1, 1))\n",
    "X_pa2 = X_pa2.T\n",
    "\n",
    "with m:        \n",
    "            n=26\n",
    "            pm.set_data({\"X_data\": X_pa})\n",
    "            ppki = pm.sample_posterior_predictive(trace, predictions=True)\n",
    "            r = np.mean(az.summary(ppki,var_names=\"y\")['mean'].values)/n\n",
    "        \n",
    "with m:\n",
    "            n=26\n",
    "            pm.set_data({\"X_data\": X_pa2})\n",
    "            ppki2 = pm.sample_posterior_predictive(trace, predictions=True)\n",
    "            r2 = np.mean(az.summary(ppki2,var_names=\"y\")['mean'].values)/n\n",
    "            \n",
    "with m:\n",
    "    if r>r2:\n",
    "        print(\"McGregor has a \" +str(r/(r+r2)*100)+ \" % impact on the fight with Holloway\")\n",
    "    else:\n",
    "        print(\"Holloway has a \" +str(r2/(r+r2)*100)+ \" % impact on the fight with McGregor\")"
   ]
  },
  {
   "cell_type": "code",
   "execution_count": 12,
   "id": "ce314217-507e-4344-b0ef-b37177c3d7fb",
   "metadata": {
    "tags": []
   },
   "outputs": [
    {
     "name": "stderr",
     "output_type": "stream",
     "text": [
      "Sampling: [y]\n"
     ]
    },
    {
     "data": {
      "text/html": [
       "\n",
       "<style>\n",
       "    /* Turns off some styling */\n",
       "    progress {\n",
       "        /* gets rid of default border in Firefox and Opera. */\n",
       "        border: none;\n",
       "        /* Needs to be in here for Safari polyfill so background images work as expected. */\n",
       "        background-size: auto;\n",
       "    }\n",
       "    progress:not([value]), progress:not([value])::-webkit-progress-bar {\n",
       "        background: repeating-linear-gradient(45deg, #7e7e7e, #7e7e7e 10px, #5c5c5c 10px, #5c5c5c 20px);\n",
       "    }\n",
       "    .progress-bar-interrupted, .progress-bar-interrupted::-webkit-progress-bar {\n",
       "        background: #F44336;\n",
       "    }\n",
       "</style>\n"
      ],
      "text/plain": [
       "<IPython.core.display.HTML object>"
      ]
     },
     "metadata": {},
     "output_type": "display_data"
    },
    {
     "data": {
      "text/html": [
       "\n",
       "    <div>\n",
       "      <progress value='40000' class='' max='40000' style='width:300px; height:20px; vertical-align: middle;'></progress>\n",
       "      100.00% [40000/40000 00:07&lt;00:00]\n",
       "    </div>\n",
       "    "
      ],
      "text/plain": [
       "<IPython.core.display.HTML object>"
      ]
     },
     "metadata": {},
     "output_type": "display_data"
    },
    {
     "name": "stderr",
     "output_type": "stream",
     "text": [
      "C:\\Users\\466131\\AppData\\Local\\anaconda3\\envs\\pymc_env\\Lib\\site-packages\\arviz\\stats\\stats.py:1351: UserWarning: Selecting first found group: predictions\n",
      "  warnings.warn(f\"Selecting first found group: {data.groups()[0]}\")\n",
      "Sampling: [y]\n"
     ]
    },
    {
     "data": {
      "text/html": [
       "\n",
       "<style>\n",
       "    /* Turns off some styling */\n",
       "    progress {\n",
       "        /* gets rid of default border in Firefox and Opera. */\n",
       "        border: none;\n",
       "        /* Needs to be in here for Safari polyfill so background images work as expected. */\n",
       "        background-size: auto;\n",
       "    }\n",
       "    progress:not([value]), progress:not([value])::-webkit-progress-bar {\n",
       "        background: repeating-linear-gradient(45deg, #7e7e7e, #7e7e7e 10px, #5c5c5c 10px, #5c5c5c 20px);\n",
       "    }\n",
       "    .progress-bar-interrupted, .progress-bar-interrupted::-webkit-progress-bar {\n",
       "        background: #F44336;\n",
       "    }\n",
       "</style>\n"
      ],
      "text/plain": [
       "<IPython.core.display.HTML object>"
      ]
     },
     "metadata": {},
     "output_type": "display_data"
    },
    {
     "data": {
      "text/html": [
       "\n",
       "    <div>\n",
       "      <progress value='40000' class='' max='40000' style='width:300px; height:20px; vertical-align: middle;'></progress>\n",
       "      100.00% [40000/40000 00:07&lt;00:00]\n",
       "    </div>\n",
       "    "
      ],
      "text/plain": [
       "<IPython.core.display.HTML object>"
      ]
     },
     "metadata": {},
     "output_type": "display_data"
    },
    {
     "name": "stderr",
     "output_type": "stream",
     "text": [
      "C:\\Users\\466131\\AppData\\Local\\anaconda3\\envs\\pymc_env\\Lib\\site-packages\\arviz\\stats\\stats.py:1351: UserWarning: Selecting first found group: predictions\n",
      "  warnings.warn(f\"Selecting first found group: {data.groups()[0]}\")\n"
     ]
    },
    {
     "name": "stdout",
     "output_type": "stream",
     "text": [
      "Nurmagomedov has a 99.53959619360421 % impact on the fight with Gaethji.\n"
     ]
    }
   ],
   "source": [
    "#Nurmagomedov vs Gaethji\n",
    "\n",
    "#Impact of Gaethji on Nurmagomedov\n",
    "X_c = (X[0,:]-X[7,:])\n",
    "X_c = np.reshape(X_c, (-1, 1))\n",
    "X_c = X_c.T\n",
    "\n",
    "#Impact of Nurmagomedov on Gaethji\n",
    "X_c2 = (X[7,:]-X[0,:])\n",
    "X_c2 = np.reshape(X_c2, (-1, 1))\n",
    "X_c2 = X_c2.T\n",
    "\n",
    "with m:        \n",
    "            n=26\n",
    "            pm.set_data({\"X_data\": X_c})\n",
    "            ppki = pm.sample_posterior_predictive(trace, predictions=True)\n",
    "            j = np.mean(az.summary(ppki,var_names=\"y\")['mean'].values)/n\n",
    "        \n",
    "with m:\n",
    "            n=26\n",
    "            pm.set_data({\"X_data\": X_c2})\n",
    "            ppki2 = pm.sample_posterior_predictive(trace, predictions=True)\n",
    "            j2 = np.mean(az.summary(ppki2,var_names=\"y\")['mean'].values)/n\n",
    "            \n",
    "with m:\n",
    "    if r>r2:\n",
    "        print(\"Nurmagomedov has a \" +str(j/(j+j2)*100)+ \" % impact on the fight with Gaethji.\")\n",
    "    else:\n",
    "        print(\"Gaethji has a \" +str(j2/(j+j2)*100)+ \" % impact on the fight with Nurmagomedov.\")"
   ]
  },
  {
   "cell_type": "code",
   "execution_count": 13,
   "id": "d5686c9b-dd9b-4d00-ba8d-3ed1b71f82a4",
   "metadata": {
    "tags": []
   },
   "outputs": [
    {
     "name": "stderr",
     "output_type": "stream",
     "text": [
      "Sampling: [y]\n"
     ]
    },
    {
     "data": {
      "text/html": [
       "\n",
       "<style>\n",
       "    /* Turns off some styling */\n",
       "    progress {\n",
       "        /* gets rid of default border in Firefox and Opera. */\n",
       "        border: none;\n",
       "        /* Needs to be in here for Safari polyfill so background images work as expected. */\n",
       "        background-size: auto;\n",
       "    }\n",
       "    progress:not([value]), progress:not([value])::-webkit-progress-bar {\n",
       "        background: repeating-linear-gradient(45deg, #7e7e7e, #7e7e7e 10px, #5c5c5c 10px, #5c5c5c 20px);\n",
       "    }\n",
       "    .progress-bar-interrupted, .progress-bar-interrupted::-webkit-progress-bar {\n",
       "        background: #F44336;\n",
       "    }\n",
       "</style>\n"
      ],
      "text/plain": [
       "<IPython.core.display.HTML object>"
      ]
     },
     "metadata": {},
     "output_type": "display_data"
    },
    {
     "data": {
      "text/html": [
       "\n",
       "    <div>\n",
       "      <progress value='40000' class='' max='40000' style='width:300px; height:20px; vertical-align: middle;'></progress>\n",
       "      100.00% [40000/40000 00:07&lt;00:00]\n",
       "    </div>\n",
       "    "
      ],
      "text/plain": [
       "<IPython.core.display.HTML object>"
      ]
     },
     "metadata": {},
     "output_type": "display_data"
    },
    {
     "name": "stderr",
     "output_type": "stream",
     "text": [
      "C:\\Users\\466131\\AppData\\Local\\anaconda3\\envs\\pymc_env\\Lib\\site-packages\\arviz\\stats\\stats.py:1351: UserWarning: Selecting first found group: predictions\n",
      "  warnings.warn(f\"Selecting first found group: {data.groups()[0]}\")\n",
      "Sampling: [y]\n"
     ]
    },
    {
     "data": {
      "text/html": [
       "\n",
       "<style>\n",
       "    /* Turns off some styling */\n",
       "    progress {\n",
       "        /* gets rid of default border in Firefox and Opera. */\n",
       "        border: none;\n",
       "        /* Needs to be in here for Safari polyfill so background images work as expected. */\n",
       "        background-size: auto;\n",
       "    }\n",
       "    progress:not([value]), progress:not([value])::-webkit-progress-bar {\n",
       "        background: repeating-linear-gradient(45deg, #7e7e7e, #7e7e7e 10px, #5c5c5c 10px, #5c5c5c 20px);\n",
       "    }\n",
       "    .progress-bar-interrupted, .progress-bar-interrupted::-webkit-progress-bar {\n",
       "        background: #F44336;\n",
       "    }\n",
       "</style>\n"
      ],
      "text/plain": [
       "<IPython.core.display.HTML object>"
      ]
     },
     "metadata": {},
     "output_type": "display_data"
    },
    {
     "data": {
      "text/html": [
       "\n",
       "    <div>\n",
       "      <progress value='40000' class='' max='40000' style='width:300px; height:20px; vertical-align: middle;'></progress>\n",
       "      100.00% [40000/40000 00:07&lt;00:00]\n",
       "    </div>\n",
       "    "
      ],
      "text/plain": [
       "<IPython.core.display.HTML object>"
      ]
     },
     "metadata": {},
     "output_type": "display_data"
    },
    {
     "name": "stderr",
     "output_type": "stream",
     "text": [
      "C:\\Users\\466131\\AppData\\Local\\anaconda3\\envs\\pymc_env\\Lib\\site-packages\\arviz\\stats\\stats.py:1351: UserWarning: Selecting first found group: predictions\n",
      "  warnings.warn(f\"Selecting first found group: {data.groups()[0]}\")\n"
     ]
    },
    {
     "name": "stdout",
     "output_type": "stream",
     "text": [
      "Nurmagomedov has a 99.35440313937298% impact on the fight with Poirier.\n"
     ]
    }
   ],
   "source": [
    "#Nurmagomedov vs Poirier\n",
    "\n",
    "#Impact of Poirier on Nurmagomedov\n",
    "X_c = (X[0,:]-X[2,:])\n",
    "X_c = np.reshape(X_c, (-1, 1))\n",
    "X_c = X_c.T\n",
    "\n",
    "#Impact of Nurmagomedov on Poirier\n",
    "X_c2 = (X[2,:]-X[0,:])\n",
    "X_c2 = np.reshape(X_c2, (-1, 1))\n",
    "X_c2 = X_c2.T\n",
    "\n",
    "with m:        \n",
    "            n=26\n",
    "            pm.set_data({\"X_data\": X_c})\n",
    "            ppki = pm.sample_posterior_predictive(trace, predictions=True)\n",
    "            r = np.mean(az.summary(ppki,var_names=\"y\")['mean'].values)/n\n",
    "        \n",
    "with m:\n",
    "            n=26\n",
    "            pm.set_data({\"X_data\": X_c2})\n",
    "            ppki2 = pm.sample_posterior_predictive(trace, predictions=True)\n",
    "            r2 = np.mean(az.summary(ppki2,var_names=\"y\")['mean'].values)/n\n",
    "            \n",
    "with m:\n",
    "    if r>r2:\n",
    "        print(\"Nurmagomedov has a \" +str(r/(r+r2)*100)+ \"% impact on the fight with Poirier.\")\n",
    "    else:\n",
    "        print(\"Poirier has a \" +str(r2/(r+r2)*100)+ \"% impact on the fight with Nurmagomedov.\")"
   ]
  },
  {
   "cell_type": "code",
   "execution_count": 14,
   "id": "3ce1eccd-8d1e-4b8d-9a22-9793239de459",
   "metadata": {
    "tags": []
   },
   "outputs": [
    {
     "name": "stderr",
     "output_type": "stream",
     "text": [
      "Sampling: [y]\n"
     ]
    },
    {
     "data": {
      "text/html": [
       "\n",
       "<style>\n",
       "    /* Turns off some styling */\n",
       "    progress {\n",
       "        /* gets rid of default border in Firefox and Opera. */\n",
       "        border: none;\n",
       "        /* Needs to be in here for Safari polyfill so background images work as expected. */\n",
       "        background-size: auto;\n",
       "    }\n",
       "    progress:not([value]), progress:not([value])::-webkit-progress-bar {\n",
       "        background: repeating-linear-gradient(45deg, #7e7e7e, #7e7e7e 10px, #5c5c5c 10px, #5c5c5c 20px);\n",
       "    }\n",
       "    .progress-bar-interrupted, .progress-bar-interrupted::-webkit-progress-bar {\n",
       "        background: #F44336;\n",
       "    }\n",
       "</style>\n"
      ],
      "text/plain": [
       "<IPython.core.display.HTML object>"
      ]
     },
     "metadata": {},
     "output_type": "display_data"
    },
    {
     "data": {
      "text/html": [
       "\n",
       "    <div>\n",
       "      <progress value='40000' class='' max='40000' style='width:300px; height:20px; vertical-align: middle;'></progress>\n",
       "      100.00% [40000/40000 00:07&lt;00:00]\n",
       "    </div>\n",
       "    "
      ],
      "text/plain": [
       "<IPython.core.display.HTML object>"
      ]
     },
     "metadata": {},
     "output_type": "display_data"
    },
    {
     "name": "stderr",
     "output_type": "stream",
     "text": [
      "C:\\Users\\466131\\AppData\\Local\\anaconda3\\envs\\pymc_env\\Lib\\site-packages\\arviz\\stats\\stats.py:1351: UserWarning: Selecting first found group: predictions\n",
      "  warnings.warn(f\"Selecting first found group: {data.groups()[0]}\")\n",
      "Sampling: [y]\n"
     ]
    },
    {
     "data": {
      "text/html": [
       "\n",
       "<style>\n",
       "    /* Turns off some styling */\n",
       "    progress {\n",
       "        /* gets rid of default border in Firefox and Opera. */\n",
       "        border: none;\n",
       "        /* Needs to be in here for Safari polyfill so background images work as expected. */\n",
       "        background-size: auto;\n",
       "    }\n",
       "    progress:not([value]), progress:not([value])::-webkit-progress-bar {\n",
       "        background: repeating-linear-gradient(45deg, #7e7e7e, #7e7e7e 10px, #5c5c5c 10px, #5c5c5c 20px);\n",
       "    }\n",
       "    .progress-bar-interrupted, .progress-bar-interrupted::-webkit-progress-bar {\n",
       "        background: #F44336;\n",
       "    }\n",
       "</style>\n"
      ],
      "text/plain": [
       "<IPython.core.display.HTML object>"
      ]
     },
     "metadata": {},
     "output_type": "display_data"
    },
    {
     "data": {
      "text/html": [
       "\n",
       "    <div>\n",
       "      <progress value='40000' class='' max='40000' style='width:300px; height:20px; vertical-align: middle;'></progress>\n",
       "      100.00% [40000/40000 00:08&lt;00:00]\n",
       "    </div>\n",
       "    "
      ],
      "text/plain": [
       "<IPython.core.display.HTML object>"
      ]
     },
     "metadata": {},
     "output_type": "display_data"
    },
    {
     "name": "stderr",
     "output_type": "stream",
     "text": [
      "C:\\Users\\466131\\AppData\\Local\\anaconda3\\envs\\pymc_env\\Lib\\site-packages\\arviz\\stats\\stats.py:1351: UserWarning: Selecting first found group: predictions\n",
      "  warnings.warn(f\"Selecting first found group: {data.groups()[0]}\")\n"
     ]
    },
    {
     "name": "stdout",
     "output_type": "stream",
     "text": [
      "Mackhachev has a 83.3108922117497% impact on the fight with Poirier.\n"
     ]
    }
   ],
   "source": [
    "#Mackhachev vs Poirier\n",
    "\n",
    "#Impact of Poirier on Mackhachev\n",
    "X_c = (X[5,:]-X[2,:])\n",
    "X_c = np.reshape(X_c, (-1, 1))\n",
    "X_c = X_c.T\n",
    "\n",
    "#Impact of Mackhachev on Poirier\n",
    "X_c2 = (X[2,:]-X[5,:])\n",
    "X_c2 = np.reshape(X_c2, (-1, 1))\n",
    "X_c2 = X_c2.T\n",
    "\n",
    "with m:        \n",
    "            n=26\n",
    "            pm.set_data({\"X_data\": X_c})\n",
    "            ppki = pm.sample_posterior_predictive(trace, predictions=True)\n",
    "            r = np.mean(az.summary(ppki,var_names=\"y\")['mean'].values)/n\n",
    "        \n",
    "with m:\n",
    "            n=26\n",
    "            pm.set_data({\"X_data\": X_c2})\n",
    "            ppki2 = pm.sample_posterior_predictive(trace, predictions=True)\n",
    "            r2 = np.mean(az.summary(ppki2,var_names=\"y\")['mean'].values)/n\n",
    "            \n",
    "with m:\n",
    "    if r>r2:\n",
    "        print(\"Mackhachev has a \" +str(r/(r+r2)*100)+ \"% impact on the fight with Poirier.\")\n",
    "    else:\n",
    "        print(\"Poirier has a \" +str(r2/(r+r2)*100)+ \"% impact on the fight with Mackhachev.\")"
   ]
  },
  {
   "cell_type": "code",
   "execution_count": 15,
   "id": "d46335c8-4591-4414-a8f2-7620d06322c9",
   "metadata": {
    "tags": []
   },
   "outputs": [
    {
     "name": "stderr",
     "output_type": "stream",
     "text": [
      "Sampling: [y]\n"
     ]
    },
    {
     "data": {
      "text/html": [
       "\n",
       "<style>\n",
       "    /* Turns off some styling */\n",
       "    progress {\n",
       "        /* gets rid of default border in Firefox and Opera. */\n",
       "        border: none;\n",
       "        /* Needs to be in here for Safari polyfill so background images work as expected. */\n",
       "        background-size: auto;\n",
       "    }\n",
       "    progress:not([value]), progress:not([value])::-webkit-progress-bar {\n",
       "        background: repeating-linear-gradient(45deg, #7e7e7e, #7e7e7e 10px, #5c5c5c 10px, #5c5c5c 20px);\n",
       "    }\n",
       "    .progress-bar-interrupted, .progress-bar-interrupted::-webkit-progress-bar {\n",
       "        background: #F44336;\n",
       "    }\n",
       "</style>\n"
      ],
      "text/plain": [
       "<IPython.core.display.HTML object>"
      ]
     },
     "metadata": {},
     "output_type": "display_data"
    },
    {
     "data": {
      "text/html": [
       "\n",
       "    <div>\n",
       "      <progress value='40000' class='' max='40000' style='width:300px; height:20px; vertical-align: middle;'></progress>\n",
       "      100.00% [40000/40000 00:07&lt;00:00]\n",
       "    </div>\n",
       "    "
      ],
      "text/plain": [
       "<IPython.core.display.HTML object>"
      ]
     },
     "metadata": {},
     "output_type": "display_data"
    },
    {
     "name": "stderr",
     "output_type": "stream",
     "text": [
      "C:\\Users\\466131\\AppData\\Local\\anaconda3\\envs\\pymc_env\\Lib\\site-packages\\arviz\\stats\\stats.py:1351: UserWarning: Selecting first found group: predictions\n",
      "  warnings.warn(f\"Selecting first found group: {data.groups()[0]}\")\n",
      "Sampling: [y]\n"
     ]
    },
    {
     "data": {
      "text/html": [
       "\n",
       "<style>\n",
       "    /* Turns off some styling */\n",
       "    progress {\n",
       "        /* gets rid of default border in Firefox and Opera. */\n",
       "        border: none;\n",
       "        /* Needs to be in here for Safari polyfill so background images work as expected. */\n",
       "        background-size: auto;\n",
       "    }\n",
       "    progress:not([value]), progress:not([value])::-webkit-progress-bar {\n",
       "        background: repeating-linear-gradient(45deg, #7e7e7e, #7e7e7e 10px, #5c5c5c 10px, #5c5c5c 20px);\n",
       "    }\n",
       "    .progress-bar-interrupted, .progress-bar-interrupted::-webkit-progress-bar {\n",
       "        background: #F44336;\n",
       "    }\n",
       "</style>\n"
      ],
      "text/plain": [
       "<IPython.core.display.HTML object>"
      ]
     },
     "metadata": {},
     "output_type": "display_data"
    },
    {
     "data": {
      "text/html": [
       "\n",
       "    <div>\n",
       "      <progress value='40000' class='' max='40000' style='width:300px; height:20px; vertical-align: middle;'></progress>\n",
       "      100.00% [40000/40000 00:07&lt;00:00]\n",
       "    </div>\n",
       "    "
      ],
      "text/plain": [
       "<IPython.core.display.HTML object>"
      ]
     },
     "metadata": {},
     "output_type": "display_data"
    },
    {
     "name": "stderr",
     "output_type": "stream",
     "text": [
      "C:\\Users\\466131\\AppData\\Local\\anaconda3\\envs\\pymc_env\\Lib\\site-packages\\arviz\\stats\\stats.py:1351: UserWarning: Selecting first found group: predictions\n",
      "  warnings.warn(f\"Selecting first found group: {data.groups()[0]}\")\n"
     ]
    },
    {
     "name": "stdout",
     "output_type": "stream",
     "text": [
      "Mackhachev has a 88.20338983050848% impact on the fight with Gaethji.\n"
     ]
    }
   ],
   "source": [
    "#Mackhachev vs Gaethji\n",
    "\n",
    "#Impact of Gaethji on Mackhachev\n",
    "X_c = (X[5,:]-X[7,:])\n",
    "X_c = np.reshape(X_c, (-1, 1))\n",
    "X_c = X_c.T\n",
    "\n",
    "#Impact of Mackhachev on Gaethji\n",
    "X_c2 = (X[7,:]-X[5,:])\n",
    "X_c2 = np.reshape(X_c2, (-1, 1))\n",
    "X_c2 = X_c2.T\n",
    "\n",
    "with m:        \n",
    "            n=26\n",
    "            pm.set_data({\"X_data\": X_c})\n",
    "            ppki = pm.sample_posterior_predictive(trace, predictions=True)\n",
    "            r = np.mean(az.summary(ppki,var_names=\"y\")['mean'].values)/n\n",
    "        \n",
    "with m:\n",
    "            n=26\n",
    "            pm.set_data({\"X_data\": X_c2})\n",
    "            ppki2 = pm.sample_posterior_predictive(trace, predictions=True)\n",
    "            r2 = np.mean(az.summary(ppki2,var_names=\"y\")['mean'].values)/n\n",
    "            \n",
    "with m:\n",
    "    if r>r2:\n",
    "        print(\"Mackhachev has a \" +str(r/(r+r2)*100)+ \"% impact on the fight with Gaethji.\")\n",
    "    else:\n",
    "        print(\"Gaethji has a \" +str(r2/(r+r2)*100)+ \"% impact on the fight with Mackhachev.\")"
   ]
  },
  {
   "cell_type": "code",
   "execution_count": 16,
   "id": "7cc51ea1-e1e5-41a7-a2e4-bb3a4062b355",
   "metadata": {
    "tags": []
   },
   "outputs": [
    {
     "name": "stderr",
     "output_type": "stream",
     "text": [
      "Sampling: [y]\n"
     ]
    },
    {
     "data": {
      "text/html": [
       "\n",
       "<style>\n",
       "    /* Turns off some styling */\n",
       "    progress {\n",
       "        /* gets rid of default border in Firefox and Opera. */\n",
       "        border: none;\n",
       "        /* Needs to be in here for Safari polyfill so background images work as expected. */\n",
       "        background-size: auto;\n",
       "    }\n",
       "    progress:not([value]), progress:not([value])::-webkit-progress-bar {\n",
       "        background: repeating-linear-gradient(45deg, #7e7e7e, #7e7e7e 10px, #5c5c5c 10px, #5c5c5c 20px);\n",
       "    }\n",
       "    .progress-bar-interrupted, .progress-bar-interrupted::-webkit-progress-bar {\n",
       "        background: #F44336;\n",
       "    }\n",
       "</style>\n"
      ],
      "text/plain": [
       "<IPython.core.display.HTML object>"
      ]
     },
     "metadata": {},
     "output_type": "display_data"
    },
    {
     "data": {
      "text/html": [
       "\n",
       "    <div>\n",
       "      <progress value='40000' class='' max='40000' style='width:300px; height:20px; vertical-align: middle;'></progress>\n",
       "      100.00% [40000/40000 00:07&lt;00:00]\n",
       "    </div>\n",
       "    "
      ],
      "text/plain": [
       "<IPython.core.display.HTML object>"
      ]
     },
     "metadata": {},
     "output_type": "display_data"
    },
    {
     "name": "stderr",
     "output_type": "stream",
     "text": [
      "C:\\Users\\466131\\AppData\\Local\\anaconda3\\envs\\pymc_env\\Lib\\site-packages\\arviz\\stats\\stats.py:1351: UserWarning: Selecting first found group: predictions\n",
      "  warnings.warn(f\"Selecting first found group: {data.groups()[0]}\")\n",
      "Sampling: [y]\n"
     ]
    },
    {
     "data": {
      "text/html": [
       "\n",
       "<style>\n",
       "    /* Turns off some styling */\n",
       "    progress {\n",
       "        /* gets rid of default border in Firefox and Opera. */\n",
       "        border: none;\n",
       "        /* Needs to be in here for Safari polyfill so background images work as expected. */\n",
       "        background-size: auto;\n",
       "    }\n",
       "    progress:not([value]), progress:not([value])::-webkit-progress-bar {\n",
       "        background: repeating-linear-gradient(45deg, #7e7e7e, #7e7e7e 10px, #5c5c5c 10px, #5c5c5c 20px);\n",
       "    }\n",
       "    .progress-bar-interrupted, .progress-bar-interrupted::-webkit-progress-bar {\n",
       "        background: #F44336;\n",
       "    }\n",
       "</style>\n"
      ],
      "text/plain": [
       "<IPython.core.display.HTML object>"
      ]
     },
     "metadata": {},
     "output_type": "display_data"
    },
    {
     "data": {
      "text/html": [
       "\n",
       "    <div>\n",
       "      <progress value='40000' class='' max='40000' style='width:300px; height:20px; vertical-align: middle;'></progress>\n",
       "      100.00% [40000/40000 00:07&lt;00:00]\n",
       "    </div>\n",
       "    "
      ],
      "text/plain": [
       "<IPython.core.display.HTML object>"
      ]
     },
     "metadata": {},
     "output_type": "display_data"
    },
    {
     "name": "stderr",
     "output_type": "stream",
     "text": [
      "C:\\Users\\466131\\AppData\\Local\\anaconda3\\envs\\pymc_env\\Lib\\site-packages\\arviz\\stats\\stats.py:1351: UserWarning: Selecting first found group: predictions\n",
      "  warnings.warn(f\"Selecting first found group: {data.groups()[0]}\")\n"
     ]
    },
    {
     "name": "stdout",
     "output_type": "stream",
     "text": [
      "Islam has a 81.52490533061462% impact on the fight with Volk.\n"
     ]
    }
   ],
   "source": [
    "#Islam vs Volkanovski\n",
    "\n",
    "#Impact of Volk on Islam\n",
    "X_c = (X[5,:]-X[17,:])\n",
    "X_c = np.reshape(X_c, (-1, 1))\n",
    "X_c = X_c.T\n",
    "\n",
    "#Impact of Islam on Volk\n",
    "X_c2 = (X[17,:]-X[5,:])\n",
    "X_c2 = np.reshape(X_c2, (-1, 1))\n",
    "X_c2 = X_c2.T\n",
    "\n",
    "with m:        \n",
    "            n=26\n",
    "            pm.set_data({\"X_data\": X_c})\n",
    "            ppki = pm.sample_posterior_predictive(trace, predictions=True)\n",
    "            r = np.mean(az.summary(ppki,var_names=\"y\")['mean'].values)/n\n",
    "        \n",
    "with m:\n",
    "            n=26\n",
    "            pm.set_data({\"X_data\": X_c2})\n",
    "            ppki2 = pm.sample_posterior_predictive(trace, predictions=True)\n",
    "            r2 = np.mean(az.summary(ppki2,var_names=\"y\")['mean'].values)/n\n",
    "            \n",
    "with m:\n",
    "    if r>r2:\n",
    "        print(\"Islam has a \" +str(r/(r+r2)*100)+ \"% impact on the fight with Volk.\")\n",
    "    else:\n",
    "        print(\"Volk has a \" +str(r2/(r+r2)*100)+ \"% impact on the fight with Islam.\")"
   ]
  },
  {
   "cell_type": "code",
   "execution_count": 17,
   "id": "84113ce2-f929-47df-86ab-6093d04ae13b",
   "metadata": {
    "tags": []
   },
   "outputs": [
    {
     "name": "stderr",
     "output_type": "stream",
     "text": [
      "Sampling: [y]\n"
     ]
    },
    {
     "data": {
      "text/html": [
       "\n",
       "<style>\n",
       "    /* Turns off some styling */\n",
       "    progress {\n",
       "        /* gets rid of default border in Firefox and Opera. */\n",
       "        border: none;\n",
       "        /* Needs to be in here for Safari polyfill so background images work as expected. */\n",
       "        background-size: auto;\n",
       "    }\n",
       "    progress:not([value]), progress:not([value])::-webkit-progress-bar {\n",
       "        background: repeating-linear-gradient(45deg, #7e7e7e, #7e7e7e 10px, #5c5c5c 10px, #5c5c5c 20px);\n",
       "    }\n",
       "    .progress-bar-interrupted, .progress-bar-interrupted::-webkit-progress-bar {\n",
       "        background: #F44336;\n",
       "    }\n",
       "</style>\n"
      ],
      "text/plain": [
       "<IPython.core.display.HTML object>"
      ]
     },
     "metadata": {},
     "output_type": "display_data"
    },
    {
     "data": {
      "text/html": [
       "\n",
       "    <div>\n",
       "      <progress value='40000' class='' max='40000' style='width:300px; height:20px; vertical-align: middle;'></progress>\n",
       "      100.00% [40000/40000 00:07&lt;00:00]\n",
       "    </div>\n",
       "    "
      ],
      "text/plain": [
       "<IPython.core.display.HTML object>"
      ]
     },
     "metadata": {},
     "output_type": "display_data"
    },
    {
     "name": "stderr",
     "output_type": "stream",
     "text": [
      "C:\\Users\\466131\\AppData\\Local\\anaconda3\\envs\\pymc_env\\Lib\\site-packages\\arviz\\stats\\stats.py:1351: UserWarning: Selecting first found group: predictions\n",
      "  warnings.warn(f\"Selecting first found group: {data.groups()[0]}\")\n",
      "Sampling: [y]\n"
     ]
    },
    {
     "data": {
      "text/html": [
       "\n",
       "<style>\n",
       "    /* Turns off some styling */\n",
       "    progress {\n",
       "        /* gets rid of default border in Firefox and Opera. */\n",
       "        border: none;\n",
       "        /* Needs to be in here for Safari polyfill so background images work as expected. */\n",
       "        background-size: auto;\n",
       "    }\n",
       "    progress:not([value]), progress:not([value])::-webkit-progress-bar {\n",
       "        background: repeating-linear-gradient(45deg, #7e7e7e, #7e7e7e 10px, #5c5c5c 10px, #5c5c5c 20px);\n",
       "    }\n",
       "    .progress-bar-interrupted, .progress-bar-interrupted::-webkit-progress-bar {\n",
       "        background: #F44336;\n",
       "    }\n",
       "</style>\n"
      ],
      "text/plain": [
       "<IPython.core.display.HTML object>"
      ]
     },
     "metadata": {},
     "output_type": "display_data"
    },
    {
     "data": {
      "text/html": [
       "\n",
       "    <div>\n",
       "      <progress value='40000' class='' max='40000' style='width:300px; height:20px; vertical-align: middle;'></progress>\n",
       "      100.00% [40000/40000 00:07&lt;00:00]\n",
       "    </div>\n",
       "    "
      ],
      "text/plain": [
       "<IPython.core.display.HTML object>"
      ]
     },
     "metadata": {},
     "output_type": "display_data"
    },
    {
     "name": "stderr",
     "output_type": "stream",
     "text": [
      "C:\\Users\\466131\\AppData\\Local\\anaconda3\\envs\\pymc_env\\Lib\\site-packages\\arviz\\stats\\stats.py:1351: UserWarning: Selecting first found group: predictions\n",
      "  warnings.warn(f\"Selecting first found group: {data.groups()[0]}\")\n"
     ]
    },
    {
     "name": "stdout",
     "output_type": "stream",
     "text": [
      "Usman has a 62.48555714747884% impact on the fight with Edwards.\n"
     ]
    }
   ],
   "source": [
    "#Kamaru vs Leon\n",
    "\n",
    "#Impact of Leon on Kamaru\n",
    "X_c = (X[11,:]-X[10,:])\n",
    "X_c = np.reshape(X_c, (-1, 1))\n",
    "X_c = X_c.T\n",
    "\n",
    "#Impact of Kamaru on Leon\n",
    "X_c2 = (X[10,:]-X[11,:])\n",
    "X_c2 = np.reshape(X_c2, (-1, 1))\n",
    "X_c2 = X_c2.T\n",
    "\n",
    "with m:        \n",
    "            n=26\n",
    "            pm.set_data({\"X_data\": X_c})\n",
    "            ppki = pm.sample_posterior_predictive(trace, predictions=True)\n",
    "            r = np.mean(az.summary(ppki,var_names=\"y\")['mean'].values)/n\n",
    "        \n",
    "with m:\n",
    "            n=26\n",
    "            pm.set_data({\"X_data\": X_c2})\n",
    "            ppki2 = pm.sample_posterior_predictive(trace, predictions=True)\n",
    "            r2 = np.mean(az.summary(ppki2,var_names=\"y\")['mean'].values)/n\n",
    "            \n",
    "with m:\n",
    "    if r>r2:\n",
    "        print(\"Usman has a \" +str(r/(r+r2)*100)+ \"% impact on the fight with Edwards.\")\n",
    "    else:\n",
    "        print(\"Edwards has a \" +str(r2/(r+r2)*100)+ \"% impact on the fight with Usman.\")"
   ]
  },
  {
   "cell_type": "code",
   "execution_count": 18,
   "id": "063c538f-773e-4c3e-9f59-eec7452d7c65",
   "metadata": {
    "tags": []
   },
   "outputs": [
    {
     "name": "stderr",
     "output_type": "stream",
     "text": [
      "Sampling: [y]\n"
     ]
    },
    {
     "data": {
      "text/html": [
       "\n",
       "<style>\n",
       "    /* Turns off some styling */\n",
       "    progress {\n",
       "        /* gets rid of default border in Firefox and Opera. */\n",
       "        border: none;\n",
       "        /* Needs to be in here for Safari polyfill so background images work as expected. */\n",
       "        background-size: auto;\n",
       "    }\n",
       "    progress:not([value]), progress:not([value])::-webkit-progress-bar {\n",
       "        background: repeating-linear-gradient(45deg, #7e7e7e, #7e7e7e 10px, #5c5c5c 10px, #5c5c5c 20px);\n",
       "    }\n",
       "    .progress-bar-interrupted, .progress-bar-interrupted::-webkit-progress-bar {\n",
       "        background: #F44336;\n",
       "    }\n",
       "</style>\n"
      ],
      "text/plain": [
       "<IPython.core.display.HTML object>"
      ]
     },
     "metadata": {},
     "output_type": "display_data"
    },
    {
     "data": {
      "text/html": [
       "\n",
       "    <div>\n",
       "      <progress value='40000' class='' max='40000' style='width:300px; height:20px; vertical-align: middle;'></progress>\n",
       "      100.00% [40000/40000 00:07&lt;00:00]\n",
       "    </div>\n",
       "    "
      ],
      "text/plain": [
       "<IPython.core.display.HTML object>"
      ]
     },
     "metadata": {},
     "output_type": "display_data"
    },
    {
     "name": "stderr",
     "output_type": "stream",
     "text": [
      "C:\\Users\\466131\\AppData\\Local\\anaconda3\\envs\\pymc_env\\Lib\\site-packages\\arviz\\stats\\stats.py:1351: UserWarning: Selecting first found group: predictions\n",
      "  warnings.warn(f\"Selecting first found group: {data.groups()[0]}\")\n",
      "Sampling: [y]\n"
     ]
    },
    {
     "data": {
      "text/html": [
       "\n",
       "<style>\n",
       "    /* Turns off some styling */\n",
       "    progress {\n",
       "        /* gets rid of default border in Firefox and Opera. */\n",
       "        border: none;\n",
       "        /* Needs to be in here for Safari polyfill so background images work as expected. */\n",
       "        background-size: auto;\n",
       "    }\n",
       "    progress:not([value]), progress:not([value])::-webkit-progress-bar {\n",
       "        background: repeating-linear-gradient(45deg, #7e7e7e, #7e7e7e 10px, #5c5c5c 10px, #5c5c5c 20px);\n",
       "    }\n",
       "    .progress-bar-interrupted, .progress-bar-interrupted::-webkit-progress-bar {\n",
       "        background: #F44336;\n",
       "    }\n",
       "</style>\n"
      ],
      "text/plain": [
       "<IPython.core.display.HTML object>"
      ]
     },
     "metadata": {},
     "output_type": "display_data"
    },
    {
     "data": {
      "text/html": [
       "\n",
       "    <div>\n",
       "      <progress value='40000' class='' max='40000' style='width:300px; height:20px; vertical-align: middle;'></progress>\n",
       "      100.00% [40000/40000 00:07&lt;00:00]\n",
       "    </div>\n",
       "    "
      ],
      "text/plain": [
       "<IPython.core.display.HTML object>"
      ]
     },
     "metadata": {},
     "output_type": "display_data"
    },
    {
     "name": "stderr",
     "output_type": "stream",
     "text": [
      "C:\\Users\\466131\\AppData\\Local\\anaconda3\\envs\\pymc_env\\Lib\\site-packages\\arviz\\stats\\stats.py:1351: UserWarning: Selecting first found group: predictions\n",
      "  warnings.warn(f\"Selecting first found group: {data.groups()[0]}\")\n"
     ]
    },
    {
     "name": "stdout",
     "output_type": "stream",
     "text": [
      "Dricus has a 78.39180378764358% impact on the fight with Whittaker.\n"
     ]
    }
   ],
   "source": [
    "#Whittaker vs Dricus\n",
    "\n",
    "#Impact of Whittaker on Dricus\n",
    "X_c = (X[14,:]-X[13,:])\n",
    "X_c = np.reshape(X_c, (-1, 1))\n",
    "X_c = X_c.T\n",
    "\n",
    "#Impact of Dricus on Whittaker\n",
    "X_c2 = (X[13,:]-X[14,:])\n",
    "X_c2 = np.reshape(X_c2, (-1, 1))\n",
    "X_c2 = X_c2.T\n",
    "\n",
    "with m:        \n",
    "            n=26\n",
    "            pm.set_data({\"X_data\": X_c})\n",
    "            ppki = pm.sample_posterior_predictive(trace, predictions=True)\n",
    "            r = np.mean(az.summary(ppki,var_names=\"y\")['mean'].values)/n\n",
    "        \n",
    "with m:\n",
    "            n=26\n",
    "            pm.set_data({\"X_data\": X_c2})\n",
    "            ppki2 = pm.sample_posterior_predictive(trace, predictions=True)\n",
    "            r2 = np.mean(az.summary(ppki2,var_names=\"y\")['mean'].values)/n\n",
    "            \n",
    "with m:\n",
    "    if r>r2:\n",
    "        print(\"Dricus has a \" +str(r/(r+r2)*100)+ \"% impact on the fight with Whittaker.\")\n",
    "    else:\n",
    "        print(\"Whittaker has a \" +str(r2/(r+r2)*100)+ \"% impact on the fight with Dricus.\")"
   ]
  },
  {
   "cell_type": "code",
   "execution_count": 19,
   "id": "5c356fd7-0beb-4140-8098-8b470633a078",
   "metadata": {
    "tags": []
   },
   "outputs": [
    {
     "name": "stderr",
     "output_type": "stream",
     "text": [
      "Sampling: [y]\n"
     ]
    },
    {
     "data": {
      "text/html": [
       "\n",
       "<style>\n",
       "    /* Turns off some styling */\n",
       "    progress {\n",
       "        /* gets rid of default border in Firefox and Opera. */\n",
       "        border: none;\n",
       "        /* Needs to be in here for Safari polyfill so background images work as expected. */\n",
       "        background-size: auto;\n",
       "    }\n",
       "    progress:not([value]), progress:not([value])::-webkit-progress-bar {\n",
       "        background: repeating-linear-gradient(45deg, #7e7e7e, #7e7e7e 10px, #5c5c5c 10px, #5c5c5c 20px);\n",
       "    }\n",
       "    .progress-bar-interrupted, .progress-bar-interrupted::-webkit-progress-bar {\n",
       "        background: #F44336;\n",
       "    }\n",
       "</style>\n"
      ],
      "text/plain": [
       "<IPython.core.display.HTML object>"
      ]
     },
     "metadata": {},
     "output_type": "display_data"
    },
    {
     "data": {
      "text/html": [
       "\n",
       "    <div>\n",
       "      <progress value='40000' class='' max='40000' style='width:300px; height:20px; vertical-align: middle;'></progress>\n",
       "      100.00% [40000/40000 00:07&lt;00:00]\n",
       "    </div>\n",
       "    "
      ],
      "text/plain": [
       "<IPython.core.display.HTML object>"
      ]
     },
     "metadata": {},
     "output_type": "display_data"
    },
    {
     "name": "stderr",
     "output_type": "stream",
     "text": [
      "C:\\Users\\466131\\AppData\\Local\\anaconda3\\envs\\pymc_env\\Lib\\site-packages\\arviz\\stats\\stats.py:1351: UserWarning: Selecting first found group: predictions\n",
      "  warnings.warn(f\"Selecting first found group: {data.groups()[0]}\")\n",
      "Sampling: [y]\n"
     ]
    },
    {
     "data": {
      "text/html": [
       "\n",
       "<style>\n",
       "    /* Turns off some styling */\n",
       "    progress {\n",
       "        /* gets rid of default border in Firefox and Opera. */\n",
       "        border: none;\n",
       "        /* Needs to be in here for Safari polyfill so background images work as expected. */\n",
       "        background-size: auto;\n",
       "    }\n",
       "    progress:not([value]), progress:not([value])::-webkit-progress-bar {\n",
       "        background: repeating-linear-gradient(45deg, #7e7e7e, #7e7e7e 10px, #5c5c5c 10px, #5c5c5c 20px);\n",
       "    }\n",
       "    .progress-bar-interrupted, .progress-bar-interrupted::-webkit-progress-bar {\n",
       "        background: #F44336;\n",
       "    }\n",
       "</style>\n"
      ],
      "text/plain": [
       "<IPython.core.display.HTML object>"
      ]
     },
     "metadata": {},
     "output_type": "display_data"
    },
    {
     "data": {
      "text/html": [
       "\n",
       "    <div>\n",
       "      <progress value='40000' class='' max='40000' style='width:300px; height:20px; vertical-align: middle;'></progress>\n",
       "      100.00% [40000/40000 00:07&lt;00:00]\n",
       "    </div>\n",
       "    "
      ],
      "text/plain": [
       "<IPython.core.display.HTML object>"
      ]
     },
     "metadata": {},
     "output_type": "display_data"
    },
    {
     "name": "stderr",
     "output_type": "stream",
     "text": [
      "C:\\Users\\466131\\AppData\\Local\\anaconda3\\envs\\pymc_env\\Lib\\site-packages\\arviz\\stats\\stats.py:1351: UserWarning: Selecting first found group: predictions\n",
      "  warnings.warn(f\"Selecting first found group: {data.groups()[0]}\")\n"
     ]
    },
    {
     "name": "stdout",
     "output_type": "stream",
     "text": [
      "Chimaev has a 99.65860783242691% impact on the fight with Burns.\n"
     ]
    }
   ],
   "source": [
    "#Chimaev vs Burns\n",
    "\n",
    "#Impact of Burns on Chimaev\n",
    "X_c = (X[23,:]-X[20,:])\n",
    "X_c = np.reshape(X_c, (-1, 1))\n",
    "X_c = X_c.T\n",
    "\n",
    "#Impact of Chimaev on Burns\n",
    "X_c2 = (X[20,:]-X[23,:])\n",
    "X_c2 = np.reshape(X_c2, (-1, 1))\n",
    "X_c2 = X_c2.T\n",
    "\n",
    "with m:        \n",
    "            n=26\n",
    "            pm.set_data({\"X_data\": X_c})\n",
    "            ppki = pm.sample_posterior_predictive(trace, predictions=True)\n",
    "            r = np.mean(az.summary(ppki,var_names=\"y\")['mean'].values)/n\n",
    "        \n",
    "with m:\n",
    "            n=26\n",
    "            pm.set_data({\"X_data\": X_c2})\n",
    "            ppki2 = pm.sample_posterior_predictive(trace, predictions=True)\n",
    "            r2 = np.mean(az.summary(ppki2,var_names=\"y\")['mean'].values)/n\n",
    "            \n",
    "with m:\n",
    "    if r>r2:\n",
    "        print(\"Chimaev has a \" +str(r/(r+r2)*100)+ \"% impact on the fight with Burns.\")\n",
    "    else:\n",
    "        print(\"Burns has a \" +str(r2/(r+r2)*100)+ \"% impact on the fight with Chimaev.\")"
   ]
  },
  {
   "cell_type": "code",
   "execution_count": 20,
   "id": "0f329545-410e-4086-8c7c-f661bf247771",
   "metadata": {
    "tags": []
   },
   "outputs": [
    {
     "name": "stderr",
     "output_type": "stream",
     "text": [
      "Sampling: [y]\n"
     ]
    },
    {
     "data": {
      "text/html": [
       "\n",
       "<style>\n",
       "    /* Turns off some styling */\n",
       "    progress {\n",
       "        /* gets rid of default border in Firefox and Opera. */\n",
       "        border: none;\n",
       "        /* Needs to be in here for Safari polyfill so background images work as expected. */\n",
       "        background-size: auto;\n",
       "    }\n",
       "    progress:not([value]), progress:not([value])::-webkit-progress-bar {\n",
       "        background: repeating-linear-gradient(45deg, #7e7e7e, #7e7e7e 10px, #5c5c5c 10px, #5c5c5c 20px);\n",
       "    }\n",
       "    .progress-bar-interrupted, .progress-bar-interrupted::-webkit-progress-bar {\n",
       "        background: #F44336;\n",
       "    }\n",
       "</style>\n"
      ],
      "text/plain": [
       "<IPython.core.display.HTML object>"
      ]
     },
     "metadata": {},
     "output_type": "display_data"
    },
    {
     "data": {
      "text/html": [
       "\n",
       "    <div>\n",
       "      <progress value='40000' class='' max='40000' style='width:300px; height:20px; vertical-align: middle;'></progress>\n",
       "      100.00% [40000/40000 00:07&lt;00:00]\n",
       "    </div>\n",
       "    "
      ],
      "text/plain": [
       "<IPython.core.display.HTML object>"
      ]
     },
     "metadata": {},
     "output_type": "display_data"
    },
    {
     "name": "stderr",
     "output_type": "stream",
     "text": [
      "C:\\Users\\466131\\AppData\\Local\\anaconda3\\envs\\pymc_env\\Lib\\site-packages\\arviz\\stats\\stats.py:1351: UserWarning: Selecting first found group: predictions\n",
      "  warnings.warn(f\"Selecting first found group: {data.groups()[0]}\")\n",
      "Sampling: [y]\n"
     ]
    },
    {
     "data": {
      "text/html": [
       "\n",
       "<style>\n",
       "    /* Turns off some styling */\n",
       "    progress {\n",
       "        /* gets rid of default border in Firefox and Opera. */\n",
       "        border: none;\n",
       "        /* Needs to be in here for Safari polyfill so background images work as expected. */\n",
       "        background-size: auto;\n",
       "    }\n",
       "    progress:not([value]), progress:not([value])::-webkit-progress-bar {\n",
       "        background: repeating-linear-gradient(45deg, #7e7e7e, #7e7e7e 10px, #5c5c5c 10px, #5c5c5c 20px);\n",
       "    }\n",
       "    .progress-bar-interrupted, .progress-bar-interrupted::-webkit-progress-bar {\n",
       "        background: #F44336;\n",
       "    }\n",
       "</style>\n"
      ],
      "text/plain": [
       "<IPython.core.display.HTML object>"
      ]
     },
     "metadata": {},
     "output_type": "display_data"
    },
    {
     "data": {
      "text/html": [
       "\n",
       "    <div>\n",
       "      <progress value='40000' class='' max='40000' style='width:300px; height:20px; vertical-align: middle;'></progress>\n",
       "      100.00% [40000/40000 00:07&lt;00:00]\n",
       "    </div>\n",
       "    "
      ],
      "text/plain": [
       "<IPython.core.display.HTML object>"
      ]
     },
     "metadata": {},
     "output_type": "display_data"
    },
    {
     "name": "stderr",
     "output_type": "stream",
     "text": [
      "C:\\Users\\466131\\AppData\\Local\\anaconda3\\envs\\pymc_env\\Lib\\site-packages\\arviz\\stats\\stats.py:1351: UserWarning: Selecting first found group: predictions\n",
      "  warnings.warn(f\"Selecting first found group: {data.groups()[0]}\")\n"
     ]
    },
    {
     "name": "stdout",
     "output_type": "stream",
     "text": [
      "A has a 57.13426482835199 % impact on the fight with B.\n"
     ]
    }
   ],
   "source": [
    "#test\n",
    "\n",
    "os.chdir(\"C:/Users/466131/Documents/Baye\")\n",
    "data = pd.read_csv(\"MMAProject.csv\", index_col=0)\n",
    "\n",
    "X = data[[\"SA\",\"SD\",\"KO\",\"SS\",\"GI\"]].to_numpy()\n",
    "y = data[\"y\"].to_numpy()\n",
    "\n",
    "#Impact\n",
    "X_c = (X[7,:]-X[8,:])\n",
    "X_c = np.reshape(X_c, (-1, 1))\n",
    "X_c = X_c.T\n",
    "\n",
    "#Impact\n",
    "X_c2 = (X[8,:]-X[7,:])\n",
    "X_c2 = np.reshape(X_c2, (-1, 1))\n",
    "X_c2 = X_c2.T\n",
    "\n",
    "with m:        \n",
    "            n=26\n",
    "            pm.set_data({\"X_data\": X_c})\n",
    "            ppki = pm.sample_posterior_predictive(trace, predictions=True)\n",
    "            r = np.mean(az.summary(ppki,var_names=\"y\")['mean'].values)/n\n",
    "        \n",
    "with m:\n",
    "            n=26\n",
    "            pm.set_data({\"X_data\": X_c2})\n",
    "            ppki2 = pm.sample_posterior_predictive(trace, predictions=True)\n",
    "            r2 = np.mean(az.summary(ppki2,var_names=\"y\")['mean'].values)/n\n",
    "            \n",
    "with m:\n",
    "    if r>r2:\n",
    "        print(\"A has a \" +str(r/(r+r2)*100)+ \" % impact on the fight with B.\")\n",
    "    else:\n",
    "        print(\"B has a \" +str(r/(r+r2)*100)+ \" % impact on the fight with A.\")"
   ]
  },
  {
   "cell_type": "code",
   "execution_count": 21,
   "id": "be248a86-2e6d-4fb4-a4b0-b39fd67778af",
   "metadata": {},
   "outputs": [
    {
     "data": {
      "image/svg+xml": [
       "<?xml version=\"1.0\" encoding=\"UTF-8\" standalone=\"no\"?>\n",
       "<!DOCTYPE svg PUBLIC \"-//W3C//DTD SVG 1.1//EN\"\n",
       " \"http://www.w3.org/Graphics/SVG/1.1/DTD/svg11.dtd\">\n",
       "<!-- Generated by graphviz version 9.0.0 (0)\n",
       " -->\n",
       "<!-- Pages: 1 -->\n",
       "<svg width=\"328pt\" height=\"369pt\"\n",
       " viewBox=\"0.00 0.00 328.00 369.13\" xmlns=\"http://www.w3.org/2000/svg\" xmlns:xlink=\"http://www.w3.org/1999/xlink\">\n",
       "<g id=\"graph0\" class=\"graph\" transform=\"scale(1 1) rotate(0) translate(4 365.13)\">\n",
       "<polygon fill=\"white\" stroke=\"none\" points=\"-4,4 -4,-365.13 324,-365.13 324,4 -4,4\"/>\n",
       "<g id=\"clust3\" class=\"cluster\">\n",
       "<title>cluster5</title>\n",
       "<path fill=\"none\" stroke=\"black\" d=\"M226,-231.32C226,-231.32 300,-231.32 300,-231.32 306,-231.32 312,-237.32 312,-243.32 312,-243.32 312,-341.13 312,-341.13 312,-347.13 306,-353.13 300,-353.13 300,-353.13 226,-353.13 226,-353.13 220,-353.13 214,-347.13 214,-341.13 214,-341.13 214,-243.32 214,-243.32 214,-237.32 220,-231.32 226,-231.32\"/>\n",
       "<text text-anchor=\"middle\" x=\"300.62\" y=\"-238.52\" font-family=\"Times New Roman,serif\" font-size=\"14.00\">5</text>\n",
       "</g>\n",
       "<g id=\"clust2\" class=\"cluster\">\n",
       "<title>cluster29</title>\n",
       "<path fill=\"none\" stroke=\"black\" d=\"M120,-8C120,-8 206,-8 206,-8 212,-8 218,-14 218,-20 218,-20 218,-211.32 218,-211.32 218,-217.32 212,-223.32 206,-223.32 206,-223.32 120,-223.32 120,-223.32 114,-223.32 108,-217.32 108,-211.32 108,-211.32 108,-20 108,-20 108,-14 114,-8 120,-8\"/>\n",
       "<text text-anchor=\"middle\" x=\"203.25\" y=\"-15.2\" font-family=\"Times New Roman,serif\" font-size=\"14.00\">29</text>\n",
       "</g>\n",
       "<g id=\"clust1\" class=\"cluster\">\n",
       "<title>cluster1 x 5</title>\n",
       "<path fill=\"none\" stroke=\"black\" d=\"M20,-243.23C20,-243.23 100,-243.23 100,-243.23 106,-243.23 112,-249.23 112,-255.23 112,-255.23 112,-329.23 112,-329.23 112,-335.23 106,-341.23 100,-341.23 100,-341.23 20,-341.23 20,-341.23 14,-341.23 8,-335.23 8,-329.23 8,-329.23 8,-255.23 8,-255.23 8,-249.23 14,-243.23 20,-243.23\"/>\n",
       "<text text-anchor=\"middle\" x=\"90.12\" y=\"-250.43\" font-family=\"Times New Roman,serif\" font-size=\"14.00\">1 x 5</text>\n",
       "</g>\n",
       "<!-- X_data -->\n",
       "<g id=\"node1\" class=\"node\">\n",
       "<title>X_data</title>\n",
       "<path fill=\"lightgrey\" stroke=\"black\" d=\"M91.62,-333.23C91.62,-333.23 28.38,-333.23 28.38,-333.23 22.38,-333.23 16.38,-327.23 16.38,-321.23 16.38,-321.23 16.38,-287.73 16.38,-287.73 16.38,-281.73 22.38,-275.73 28.38,-275.73 28.38,-275.73 91.62,-275.73 91.62,-275.73 97.62,-275.73 103.62,-281.73 103.62,-287.73 103.62,-287.73 103.62,-321.23 103.62,-321.23 103.62,-327.23 97.62,-333.23 91.62,-333.23\"/>\n",
       "<text text-anchor=\"middle\" x=\"60\" y=\"-315.93\" font-family=\"Times New Roman,serif\" font-size=\"14.00\">X_data</text>\n",
       "<text text-anchor=\"middle\" x=\"60\" y=\"-299.43\" font-family=\"Times New Roman,serif\" font-size=\"14.00\">~</text>\n",
       "<text text-anchor=\"middle\" x=\"60\" y=\"-282.93\" font-family=\"Times New Roman,serif\" font-size=\"14.00\">MutableData</text>\n",
       "</g>\n",
       "<!-- y -->\n",
       "<g id=\"node3\" class=\"node\">\n",
       "<title>y</title>\n",
       "<ellipse fill=\"lightgrey\" stroke=\"black\" cx=\"163\" cy=\"-174.66\" rx=\"47.38\" ry=\"40.66\"/>\n",
       "<text text-anchor=\"middle\" x=\"163\" y=\"-186.11\" font-family=\"Times New Roman,serif\" font-size=\"14.00\">y</text>\n",
       "<text text-anchor=\"middle\" x=\"163\" y=\"-169.61\" font-family=\"Times New Roman,serif\" font-size=\"14.00\">~</text>\n",
       "<text text-anchor=\"middle\" x=\"163\" y=\"-153.11\" font-family=\"Times New Roman,serif\" font-size=\"14.00\">Binomial</text>\n",
       "</g>\n",
       "<!-- X_data&#45;&gt;y -->\n",
       "<g id=\"edge2\" class=\"edge\">\n",
       "<title>X_data&#45;&gt;y</title>\n",
       "<path fill=\"none\" stroke=\"black\" d=\"M79.76,-275.24C89.47,-261.71 101.53,-245.43 113,-231.32 117.3,-226.03 121.94,-220.56 126.6,-215.22\"/>\n",
       "<polygon fill=\"black\" stroke=\"black\" points=\"128.89,-217.92 132.89,-208.11 123.65,-213.28 128.89,-217.92\"/>\n",
       "</g>\n",
       "<!-- y_data -->\n",
       "<g id=\"node2\" class=\"node\">\n",
       "<title>y_data</title>\n",
       "<path fill=\"lightgrey\" stroke=\"black\" d=\"M194.62,-98C194.62,-98 131.38,-98 131.38,-98 125.38,-98 119.38,-92 119.38,-86 119.38,-86 119.38,-52.5 119.38,-52.5 119.38,-46.5 125.38,-40.5 131.38,-40.5 131.38,-40.5 194.62,-40.5 194.62,-40.5 200.62,-40.5 206.62,-46.5 206.62,-52.5 206.62,-52.5 206.62,-86 206.62,-86 206.62,-92 200.62,-98 194.62,-98\"/>\n",
       "<text text-anchor=\"middle\" x=\"163\" y=\"-80.7\" font-family=\"Times New Roman,serif\" font-size=\"14.00\">y_data</text>\n",
       "<text text-anchor=\"middle\" x=\"163\" y=\"-64.2\" font-family=\"Times New Roman,serif\" font-size=\"14.00\">~</text>\n",
       "<text text-anchor=\"middle\" x=\"163\" y=\"-47.7\" font-family=\"Times New Roman,serif\" font-size=\"14.00\">MutableData</text>\n",
       "</g>\n",
       "<!-- y&#45;&gt;y_data -->\n",
       "<g id=\"edge1\" class=\"edge\">\n",
       "<title>y&#45;&gt;y_data</title>\n",
       "<path fill=\"none\" stroke=\"black\" d=\"M163,-133.68C163,-125.83 163,-117.6 163,-109.76\"/>\n",
       "<polygon fill=\"black\" stroke=\"black\" points=\"166.5,-109.79 163,-99.79 159.5,-109.79 166.5,-109.79\"/>\n",
       "</g>\n",
       "<!-- alpha -->\n",
       "<g id=\"node4\" class=\"node\">\n",
       "<title>alpha</title>\n",
       "<ellipse fill=\"none\" stroke=\"black\" cx=\"163\" cy=\"-304.48\" rx=\"41.01\" ry=\"40.66\"/>\n",
       "<text text-anchor=\"middle\" x=\"163\" y=\"-315.93\" font-family=\"Times New Roman,serif\" font-size=\"14.00\">alpha</text>\n",
       "<text text-anchor=\"middle\" x=\"163\" y=\"-299.43\" font-family=\"Times New Roman,serif\" font-size=\"14.00\">~</text>\n",
       "<text text-anchor=\"middle\" x=\"163\" y=\"-282.93\" font-family=\"Times New Roman,serif\" font-size=\"14.00\">Normal</text>\n",
       "</g>\n",
       "<!-- alpha&#45;&gt;y -->\n",
       "<g id=\"edge3\" class=\"edge\">\n",
       "<title>alpha&#45;&gt;y</title>\n",
       "<path fill=\"none\" stroke=\"black\" d=\"M163,-263.38C163,-251.84 163,-239.1 163,-226.98\"/>\n",
       "<polygon fill=\"black\" stroke=\"black\" points=\"166.5,-227.12 163,-217.12 159.5,-227.12 166.5,-227.12\"/>\n",
       "</g>\n",
       "<!-- beta -->\n",
       "<g id=\"node5\" class=\"node\">\n",
       "<title>beta</title>\n",
       "<ellipse fill=\"none\" stroke=\"black\" cx=\"263\" cy=\"-304.48\" rx=\"41.01\" ry=\"40.66\"/>\n",
       "<text text-anchor=\"middle\" x=\"263\" y=\"-315.93\" font-family=\"Times New Roman,serif\" font-size=\"14.00\">beta</text>\n",
       "<text text-anchor=\"middle\" x=\"263\" y=\"-299.43\" font-family=\"Times New Roman,serif\" font-size=\"14.00\">~</text>\n",
       "<text text-anchor=\"middle\" x=\"263\" y=\"-282.93\" font-family=\"Times New Roman,serif\" font-size=\"14.00\">Normal</text>\n",
       "</g>\n",
       "<!-- beta&#45;&gt;y -->\n",
       "<g id=\"edge4\" class=\"edge\">\n",
       "<title>beta&#45;&gt;y</title>\n",
       "<path fill=\"none\" stroke=\"black\" d=\"M240.95,-269.79C232.54,-257.45 222.64,-243.51 213,-231.32 208.77,-225.97 204.17,-220.47 199.54,-215.11\"/>\n",
       "<polygon fill=\"black\" stroke=\"black\" points=\"202.5,-213.18 193.27,-207.99 197.24,-217.8 202.5,-213.18\"/>\n",
       "</g>\n",
       "</g>\n",
       "</svg>\n"
      ],
      "text/plain": [
       "<graphviz.graphs.Digraph at 0x2001b66a850>"
      ]
     },
     "execution_count": 21,
     "metadata": {},
     "output_type": "execute_result"
    }
   ],
   "source": [
    "m.to_graphviz()"
   ]
  },
  {
   "cell_type": "code",
   "execution_count": 25,
   "id": "6f935a97-bbb9-4520-9ff7-90ccbc93abd8",
   "metadata": {},
   "outputs": [
    {
     "data": {
      "image/png": "[encoded data removed]",
      "text/plain": [
       "<Figure size 1000x800 with 6 Axes>"
      ]
     },
     "metadata": {},
     "output_type": "display_data"
    }
   ],
   "source": [
    "az.plot_posterior(trace, figsize = (10, 8))\n",
    "plt.tight_layout()\n",
    "plt.savefig('C:/Users/466131/Documents/Baye/PosteriorPlotProject.png')"
   ]
  },
  {
   "cell_type": "code",
   "execution_count": 23,
   "id": "772ab5e3-ca3e-4635-a19a-2cf083ffe3de",
   "metadata": {},
   "outputs": [
    {
     "name": "stderr",
     "output_type": "stream",
     "text": [
      "C:\\Users\\466131\\AppData\\Local\\anaconda3\\envs\\pymc_env\\Lib\\site-packages\\arviz\\plots\\backends\\matplotlib\\traceplot.py:161: FutureWarning: chain_prop as a tuple will be deprecated in a future warning, use a dict instead\n",
      "  warnings.warn(\n",
      "C:\\Users\\466131\\AppData\\Local\\anaconda3\\envs\\pymc_env\\Lib\\site-packages\\arviz\\plots\\backends\\matplotlib\\traceplot.py:433: FutureWarning: The return type of `Dataset.dims` will be changed to return a set of dimension names in future, in order to be more consistent with `DataArray.dims`. To access a mapping from dimension names to lengths, please use `Dataset.sizes`.\n",
      "  for chain_id in range(data.dims[\"chain\"])\n"
     ]
    },
    {
     "data": {
      "image/png": "[encoded data removed]",
      "text/plain": [
       "<Figure size 1000x800 with 4 Axes>"
      ]
     },
     "metadata": {},
     "output_type": "display_data"
    }
   ],
   "source": [
    "az.plot_trace(trace, figsize = (10, 8),compact=True, combined=True, legend=True, chain_prop=(\"ls\", \"-\"))\n",
    "\n",
    "plt.tight_layout()\n",
    "\n",
    "plt.savefig('C:/Users/466131/Documents/Baye/TracePlotProject.png')\n"
   ]
  },
  {
   "cell_type": "code",
   "execution_count": 26,
   "id": "e67afad9-4692-43d6-913d-b6e6859f5f01",
   "metadata": {},
   "outputs": [
    {
     "data": {
      "image/png": "[encoded data removed]",
      "text/plain": [
       "<Figure size 1000x400 with 2 Axes>"
      ]
     },
     "metadata": {},
     "output_type": "display_data"
    }
   ],
   "source": [
    "# posterior densities\n",
    "fig, (ax1, ax2) = plt.subplots(1, 2, figsize=(10,4))\n",
    "\n",
    "ax1.grid(True)\n",
    "ax1.scatter(yfat,y, color=\"lightgreen\")\n",
    "line_fit = sm.OLS(y, sm.add_constant(yfat, prepend=True)).fit()\n",
    "abline_plot(model_results=line_fit, ax=ax1)\n",
    "ax1.set_xlabel(\"Frequentist fitted values\")\n",
    "ax1.set_ylabel(\"Observed values\")\n",
    "ax1.set_facecolor(\"white\")\n",
    "\n",
    "\n",
    "ax2.grid(True)\n",
    "ax2.scatter(yhat,y, color=\"red\")\n",
    "line_fit = sm.OLS(y, sm.add_constant(yhat, prepend=True)).fit()\n",
    "abline_plot(model_results=line_fit, ax=ax2)\n",
    "ax2.set_xlabel(\"Bayesian fitted values\")\n",
    "ax2.set_ylabel(\"Observed values\")\n",
    "ax2.set_facecolor(\"white\")\n",
    "\n",
    "plt.savefig('C:/Users/466131/Documents/Baye/ComparisonPlotProject.png')\n",
    "\n",
    "plt.tight_layout()\n",
    "plt.show()\n",
    "\n"
   ]
  },
  {
   "cell_type": "code",
   "execution_count": 27,
   "id": "60aa21de-6d21-49ad-8a9f-a5f000604213",
   "metadata": {
    "tags": []
   },
   "outputs": [
    {
     "name": "stderr",
     "output_type": "stream",
     "text": [
      "Sampling: [y]\n"
     ]
    },
    {
     "data": {
      "text/html": [
       "\n",
       "<style>\n",
       "    /* Turns off some styling */\n",
       "    progress {\n",
       "        /* gets rid of default border in Firefox and Opera. */\n",
       "        border: none;\n",
       "        /* Needs to be in here for Safari polyfill so background images work as expected. */\n",
       "        background-size: auto;\n",
       "    }\n",
       "    progress:not([value]), progress:not([value])::-webkit-progress-bar {\n",
       "        background: repeating-linear-gradient(45deg, #7e7e7e, #7e7e7e 10px, #5c5c5c 10px, #5c5c5c 20px);\n",
       "    }\n",
       "    .progress-bar-interrupted, .progress-bar-interrupted::-webkit-progress-bar {\n",
       "        background: #F44336;\n",
       "    }\n",
       "</style>\n"
      ],
      "text/plain": [
       "<IPython.core.display.HTML object>"
      ]
     },
     "metadata": {},
     "output_type": "display_data"
    },
    {
     "data": {
      "text/html": [
       "\n",
       "    <div>\n",
       "      <progress value='40000' class='' max='40000' style='width:300px; height:20px; vertical-align: middle;'></progress>\n",
       "      100.00% [40000/40000 00:04&lt;00:00]\n",
       "    </div>\n",
       "    "
      ],
      "text/plain": [
       "<IPython.core.display.HTML object>"
      ]
     },
     "metadata": {},
     "output_type": "display_data"
    },
    {
     "name": "stderr",
     "output_type": "stream",
     "text": [
      "C:\\Users\\466131\\AppData\\Local\\anaconda3\\envs\\pymc_env\\Lib\\site-packages\\arviz\\stats\\stats.py:1351: UserWarning: Selecting first found group: predictions\n",
      "  warnings.warn(f\"Selecting first found group: {data.groups()[0]}\")\n"
     ]
    },
    {
     "name": "stdout",
     "output_type": "stream",
     "text": [
      "23.12703448275862\n"
     ]
    }
   ],
   "source": [
    "#Nick Diaz\n",
    "\n",
    "os.chdir(\"C:/Users/466131/Documents/Baye\")\n",
    "data = pd.read_csv(\"MMAProject.csv\", index_col=0)\n",
    "\n",
    "#Impact\n",
    "X_c = [3.84,0.59,0.361,4.069,0.088]\n",
    "X_c = np.reshape(X_c, (-1, 1))\n",
    "X_c = X_c.T\n",
    "\n",
    "with m:        \n",
    "            n=26\n",
    "            pm.set_data({\"X_data\": X_c})\n",
    "            ppki = pm.sample_posterior_predictive(trace, predictions=True)\n",
    "            r = np.mean(az.summary(ppki,var_names=\"y\")['mean'].values)\n",
    "            print(r)\n",
    "            "
   ]
  },
  {
   "cell_type": "code",
   "execution_count": 28,
   "id": "9f62c0da-6da9-41cf-9cd2-68bd28011b42",
   "metadata": {
    "tags": []
   },
   "outputs": [
    {
     "name": "stderr",
     "output_type": "stream",
     "text": [
      "Sampling: [y]\n"
     ]
    },
    {
     "data": {
      "text/html": [
       "\n",
       "<style>\n",
       "    /* Turns off some styling */\n",
       "    progress {\n",
       "        /* gets rid of default border in Firefox and Opera. */\n",
       "        border: none;\n",
       "        /* Needs to be in here for Safari polyfill so background images work as expected. */\n",
       "        background-size: auto;\n",
       "    }\n",
       "    progress:not([value]), progress:not([value])::-webkit-progress-bar {\n",
       "        background: repeating-linear-gradient(45deg, #7e7e7e, #7e7e7e 10px, #5c5c5c 10px, #5c5c5c 20px);\n",
       "    }\n",
       "    .progress-bar-interrupted, .progress-bar-interrupted::-webkit-progress-bar {\n",
       "        background: #F44336;\n",
       "    }\n",
       "</style>\n"
      ],
      "text/plain": [
       "<IPython.core.display.HTML object>"
      ]
     },
     "metadata": {},
     "output_type": "display_data"
    },
    {
     "data": {
      "text/html": [
       "\n",
       "    <div>\n",
       "      <progress value='40000' class='' max='40000' style='width:300px; height:20px; vertical-align: middle;'></progress>\n",
       "      100.00% [40000/40000 00:04&lt;00:00]\n",
       "    </div>\n",
       "    "
      ],
      "text/plain": [
       "<IPython.core.display.HTML object>"
      ]
     },
     "metadata": {},
     "output_type": "display_data"
    },
    {
     "name": "stderr",
     "output_type": "stream",
     "text": [
      "C:\\Users\\466131\\AppData\\Local\\anaconda3\\envs\\pymc_env\\Lib\\site-packages\\arviz\\stats\\stats.py:1351: UserWarning: Selecting first found group: predictions\n",
      "  warnings.warn(f\"Selecting first found group: {data.groups()[0]}\")\n"
     ]
    },
    {
     "name": "stdout",
     "output_type": "stream",
     "text": [
      "19.948344827586208\n"
     ]
    }
   ],
   "source": [
    "#Tony Ferguson\n",
    "\n",
    "os.chdir(\"C:/Users/466131/Documents/Baye\")\n",
    "data = pd.read_csv(\"MMAProject.csv\", index_col=0)\n",
    "\n",
    "#Impact\n",
    "X_c = [4.41,0.55,0.343,3.847,0.03]\n",
    "X_c = np.reshape(X_c, (-1, 1))\n",
    "X_c = X_c.T\n",
    "\n",
    "with m:        \n",
    "            n=26\n",
    "            pm.set_data({\"X_data\": X_c})\n",
    "            ppki = pm.sample_posterior_predictive(trace, predictions=True)\n",
    "            r = np.mean(az.summary(ppki,var_names=\"y\")['mean'].values)\n",
    "            print(r)\n",
    "            "
   ]
  },
  {
   "cell_type": "code",
   "execution_count": 37,
   "id": "938ef576-240e-404a-9942-8e2e18d68c50",
   "metadata": {
    "tags": []
   },
   "outputs": [
    {
     "name": "stderr",
     "output_type": "stream",
     "text": [
      "Sampling: [y]\n"
     ]
    },
    {
     "data": {
      "text/html": [
       "\n",
       "<style>\n",
       "    /* Turns off some styling */\n",
       "    progress {\n",
       "        /* gets rid of default border in Firefox and Opera. */\n",
       "        border: none;\n",
       "        /* Needs to be in here for Safari polyfill so background images work as expected. */\n",
       "        background-size: auto;\n",
       "    }\n",
       "    progress:not([value]), progress:not([value])::-webkit-progress-bar {\n",
       "        background: repeating-linear-gradient(45deg, #7e7e7e, #7e7e7e 10px, #5c5c5c 10px, #5c5c5c 20px);\n",
       "    }\n",
       "    .progress-bar-interrupted, .progress-bar-interrupted::-webkit-progress-bar {\n",
       "        background: #F44336;\n",
       "    }\n",
       "</style>\n"
      ],
      "text/plain": [
       "<IPython.core.display.HTML object>"
      ]
     },
     "metadata": {},
     "output_type": "display_data"
    },
    {
     "data": {
      "text/html": [
       "\n",
       "    <div>\n",
       "      <progress value='40000' class='' max='40000' style='width:300px; height:20px; vertical-align: middle;'></progress>\n",
       "      100.00% [40000/40000 00:04&lt;00:00]\n",
       "    </div>\n",
       "    "
      ],
      "text/plain": [
       "<IPython.core.display.HTML object>"
      ]
     },
     "metadata": {},
     "output_type": "display_data"
    },
    {
     "name": "stderr",
     "output_type": "stream",
     "text": [
      "C:\\Users\\466131\\AppData\\Local\\anaconda3\\envs\\pymc_env\\Lib\\site-packages\\arviz\\stats\\stats.py:1351: UserWarning: Selecting first found group: predictions\n",
      "  warnings.warn(f\"Selecting first found group: {data.groups()[0]}\")\n"
     ]
    },
    {
     "name": "stdout",
     "output_type": "stream",
     "text": [
      "23.187\n"
     ]
    }
   ],
   "source": [
    "#Josh Thompson\n",
    "\n",
    "os.chdir(\"C:/Users/466131/Documents/Baye\")\n",
    "data = pd.read_csv(\"MMAProject.csv\", index_col=0)\n",
    "\n",
    "#Impact\n",
    "X_c = [2.12,0.64,0.226,3.029,0.303]\n",
    "X_c = np.reshape(X_c, (-1, 1))\n",
    "X_c = X_c.T\n",
    "\n",
    "with m:        \n",
    "            n=26\n",
    "            pm.set_data({\"X_data\": X_c})\n",
    "            ppki = pm.sample_posterior_predictive(trace, predictions=True)\n",
    "            r = np.mean(az.summary(ppki,var_names=\"y\")['mean'].values)\n",
    "            print(r)\n",
    "            "
   ]
  },
  {
   "cell_type": "code",
   "execution_count": 32,
   "id": "331158a9-dfd1-4e42-8350-20c0e5bd7d43",
   "metadata": {
    "tags": []
   },
   "outputs": [
    {
     "name": "stderr",
     "output_type": "stream",
     "text": [
      "Sampling: [y]\n"
     ]
    },
    {
     "data": {
      "text/html": [
       "\n",
       "<style>\n",
       "    /* Turns off some styling */\n",
       "    progress {\n",
       "        /* gets rid of default border in Firefox and Opera. */\n",
       "        border: none;\n",
       "        /* Needs to be in here for Safari polyfill so background images work as expected. */\n",
       "        background-size: auto;\n",
       "    }\n",
       "    progress:not([value]), progress:not([value])::-webkit-progress-bar {\n",
       "        background: repeating-linear-gradient(45deg, #7e7e7e, #7e7e7e 10px, #5c5c5c 10px, #5c5c5c 20px);\n",
       "    }\n",
       "    .progress-bar-interrupted, .progress-bar-interrupted::-webkit-progress-bar {\n",
       "        background: #F44336;\n",
       "    }\n",
       "</style>\n"
      ],
      "text/plain": [
       "<IPython.core.display.HTML object>"
      ]
     },
     "metadata": {},
     "output_type": "display_data"
    },
    {
     "data": {
      "text/html": [
       "\n",
       "    <div>\n",
       "      <progress value='40000' class='' max='40000' style='width:300px; height:20px; vertical-align: middle;'></progress>\n",
       "      100.00% [40000/40000 00:04&lt;00:00]\n",
       "    </div>\n",
       "    "
      ],
      "text/plain": [
       "<IPython.core.display.HTML object>"
      ]
     },
     "metadata": {},
     "output_type": "display_data"
    },
    {
     "name": "stderr",
     "output_type": "stream",
     "text": [
      "C:\\Users\\466131\\AppData\\Local\\anaconda3\\envs\\pymc_env\\Lib\\site-packages\\arviz\\stats\\stats.py:1351: UserWarning: Selecting first found group: predictions\n",
      "  warnings.warn(f\"Selecting first found group: {data.groups()[0]}\")\n"
     ]
    },
    {
     "name": "stdout",
     "output_type": "stream",
     "text": [
      "24.25162068965517\n"
     ]
    }
   ],
   "source": [
    "#Charles Oliveira\n",
    "\n",
    "os.chdir(\"C:/Users/466131/Documents/Baye\")\n",
    "data = pd.read_csv(\"MMAProject.csv\", index_col=0)\n",
    "\n",
    "#Impact\n",
    "X_c = [3.2,0.51,0.227,3.034,0.559]\n",
    "X_c = np.reshape(X_c, (-1, 1))\n",
    "X_c = X_c.T\n",
    "\n",
    "with m:        \n",
    "            n=26\n",
    "            pm.set_data({\"X_data\": X_c})\n",
    "            ppki = pm.sample_posterior_predictive(trace, predictions=True)\n",
    "            r = np.mean(az.summary(ppki,var_names=\"y\")['mean'].values)\n",
    "            print(r)\n",
    "            "
   ]
  },
  {
   "cell_type": "code",
   "execution_count": 33,
   "id": "07a6286e-cfa4-4901-8e0e-e8a3fc34cca8",
   "metadata": {
    "tags": []
   },
   "outputs": [
    {
     "name": "stderr",
     "output_type": "stream",
     "text": [
      "Sampling: [y]\n"
     ]
    },
    {
     "data": {
      "text/html": [
       "\n",
       "<style>\n",
       "    /* Turns off some styling */\n",
       "    progress {\n",
       "        /* gets rid of default border in Firefox and Opera. */\n",
       "        border: none;\n",
       "        /* Needs to be in here for Safari polyfill so background images work as expected. */\n",
       "        background-size: auto;\n",
       "    }\n",
       "    progress:not([value]), progress:not([value])::-webkit-progress-bar {\n",
       "        background: repeating-linear-gradient(45deg, #7e7e7e, #7e7e7e 10px, #5c5c5c 10px, #5c5c5c 20px);\n",
       "    }\n",
       "    .progress-bar-interrupted, .progress-bar-interrupted::-webkit-progress-bar {\n",
       "        background: #F44336;\n",
       "    }\n",
       "</style>\n"
      ],
      "text/plain": [
       "<IPython.core.display.HTML object>"
      ]
     },
     "metadata": {},
     "output_type": "display_data"
    },
    {
     "data": {
      "text/html": [
       "\n",
       "    <div>\n",
       "      <progress value='40000' class='' max='40000' style='width:300px; height:20px; vertical-align: middle;'></progress>\n",
       "      100.00% [40000/40000 00:04&lt;00:00]\n",
       "    </div>\n",
       "    "
      ],
      "text/plain": [
       "<IPython.core.display.HTML object>"
      ]
     },
     "metadata": {},
     "output_type": "display_data"
    },
    {
     "name": "stderr",
     "output_type": "stream",
     "text": [
      "C:\\Users\\466131\\AppData\\Local\\anaconda3\\envs\\pymc_env\\Lib\\site-packages\\arviz\\stats\\stats.py:1351: UserWarning: Selecting first found group: predictions\n",
      "  warnings.warn(f\"Selecting first found group: {data.groups()[0]}\")\n"
     ]
    },
    {
     "name": "stdout",
     "output_type": "stream",
     "text": [
      "24.255172413793098\n"
     ]
    }
   ],
   "source": [
    "#Sean Brady\n",
    "\n",
    "os.chdir(\"C:/Users/466131/Documents/Baye\")\n",
    "data = pd.read_csv(\"MMAProject.csv\", index_col=0)\n",
    "\n",
    "#Impact\n",
    "X_c = [3.55,0.61,0.176,3.486,0.398]\n",
    "X_c = np.reshape(X_c, (-1, 1))\n",
    "X_c = X_c.T\n",
    "\n",
    "with m:        \n",
    "            n=26\n",
    "            pm.set_data({\"X_data\": X_c})\n",
    "            ppki = pm.sample_posterior_predictive(trace, predictions=True)\n",
    "            r = np.mean(az.summary(ppki,var_names=\"y\")['mean'].values)\n",
    "            print(r)\n",
    "            "
   ]
  },
  {
   "cell_type": "code",
   "execution_count": 34,
   "id": "99be6c31-9254-4f18-a92f-dbdd8d252ad3",
   "metadata": {
    "tags": []
   },
   "outputs": [
    {
     "name": "stderr",
     "output_type": "stream",
     "text": [
      "Sampling: [y]\n"
     ]
    },
    {
     "data": {
      "text/html": [
       "\n",
       "<style>\n",
       "    /* Turns off some styling */\n",
       "    progress {\n",
       "        /* gets rid of default border in Firefox and Opera. */\n",
       "        border: none;\n",
       "        /* Needs to be in here for Safari polyfill so background images work as expected. */\n",
       "        background-size: auto;\n",
       "    }\n",
       "    progress:not([value]), progress:not([value])::-webkit-progress-bar {\n",
       "        background: repeating-linear-gradient(45deg, #7e7e7e, #7e7e7e 10px, #5c5c5c 10px, #5c5c5c 20px);\n",
       "    }\n",
       "    .progress-bar-interrupted, .progress-bar-interrupted::-webkit-progress-bar {\n",
       "        background: #F44336;\n",
       "    }\n",
       "</style>\n"
      ],
      "text/plain": [
       "<IPython.core.display.HTML object>"
      ]
     },
     "metadata": {},
     "output_type": "display_data"
    },
    {
     "data": {
      "text/html": [
       "\n",
       "    <div>\n",
       "      <progress value='40000' class='' max='40000' style='width:300px; height:20px; vertical-align: middle;'></progress>\n",
       "      100.00% [40000/40000 00:04&lt;00:00]\n",
       "    </div>\n",
       "    "
      ],
      "text/plain": [
       "<IPython.core.display.HTML object>"
      ]
     },
     "metadata": {},
     "output_type": "display_data"
    },
    {
     "name": "stderr",
     "output_type": "stream",
     "text": [
      "C:\\Users\\466131\\AppData\\Local\\anaconda3\\envs\\pymc_env\\Lib\\site-packages\\arviz\\stats\\stats.py:1351: UserWarning: Selecting first found group: predictions\n",
      "  warnings.warn(f\"Selecting first found group: {data.groups()[0]}\")\n"
     ]
    },
    {
     "name": "stdout",
     "output_type": "stream",
     "text": [
      "16.460034482758626\n"
     ]
    }
   ],
   "source": [
    "#Arman Tsarukyan\n",
    "\n",
    "os.chdir(\"C:/Users/466131/Documents/Baye\")\n",
    "data = pd.read_csv(\"MMAProject.csv\", index_col=0)\n",
    "\n",
    "#Impact\n",
    "X_c = [3.79,0.48,0.36,2.649,0.223]\n",
    "X_c = np.reshape(X_c, (-1, 1))\n",
    "X_c = X_c.T\n",
    "\n",
    "with m:        \n",
    "            n=26\n",
    "            pm.set_data({\"X_data\": X_c})\n",
    "            ppki = pm.sample_posterior_predictive(trace, predictions=True)\n",
    "            r = np.mean(az.summary(ppki,var_names=\"y\")['mean'].values)\n",
    "            print(r)\n",
    "            "
   ]
  },
  {
   "cell_type": "code",
   "execution_count": 35,
   "id": "70b56fbf-9902-446c-810d-94c3c9628001",
   "metadata": {
    "tags": []
   },
   "outputs": [
    {
     "name": "stderr",
     "output_type": "stream",
     "text": [
      "Sampling: [y]\n"
     ]
    },
    {
     "data": {
      "text/html": [
       "\n",
       "<style>\n",
       "    /* Turns off some styling */\n",
       "    progress {\n",
       "        /* gets rid of default border in Firefox and Opera. */\n",
       "        border: none;\n",
       "        /* Needs to be in here for Safari polyfill so background images work as expected. */\n",
       "        background-size: auto;\n",
       "    }\n",
       "    progress:not([value]), progress:not([value])::-webkit-progress-bar {\n",
       "        background: repeating-linear-gradient(45deg, #7e7e7e, #7e7e7e 10px, #5c5c5c 10px, #5c5c5c 20px);\n",
       "    }\n",
       "    .progress-bar-interrupted, .progress-bar-interrupted::-webkit-progress-bar {\n",
       "        background: #F44336;\n",
       "    }\n",
       "</style>\n"
      ],
      "text/plain": [
       "<IPython.core.display.HTML object>"
      ]
     },
     "metadata": {},
     "output_type": "display_data"
    },
    {
     "data": {
      "text/html": [
       "\n",
       "    <div>\n",
       "      <progress value='40000' class='' max='40000' style='width:300px; height:20px; vertical-align: middle;'></progress>\n",
       "      100.00% [40000/40000 00:04&lt;00:00]\n",
       "    </div>\n",
       "    "
      ],
      "text/plain": [
       "<IPython.core.display.HTML object>"
      ]
     },
     "metadata": {},
     "output_type": "display_data"
    },
    {
     "name": "stderr",
     "output_type": "stream",
     "text": [
      "C:\\Users\\466131\\AppData\\Local\\anaconda3\\envs\\pymc_env\\Lib\\site-packages\\arviz\\stats\\stats.py:1351: UserWarning: Selecting first found group: predictions\n",
      "  warnings.warn(f\"Selecting first found group: {data.groups()[0]}\")\n"
     ]
    },
    {
     "name": "stdout",
     "output_type": "stream",
     "text": [
      "24.571034482758623\n"
     ]
    }
   ],
   "source": [
    "#Merab\n",
    "\n",
    "os.chdir(\"C:/Users/466131/Documents/Baye\")\n",
    "data = pd.read_csv(\"MMAProject.csv\", index_col=0)\n",
    "\n",
    "#Impact\n",
    "X_c = [2.37,0.57,0.143,3.174,0.526]\n",
    "X_c = np.reshape(X_c, (-1, 1))\n",
    "X_c = X_c.T\n",
    "\n",
    "with m:        \n",
    "            n=26\n",
    "            pm.set_data({\"X_data\": X_c})\n",
    "            ppki = pm.sample_posterior_predictive(trace, predictions=True)\n",
    "            r = np.mean(az.summary(ppki,var_names=\"y\")['mean'].values)\n",
    "            print(r)\n",
    "            "
   ]
  },
  {
   "cell_type": "code",
   "execution_count": 43,
   "id": "5447ac73-9d62-49a8-a1ed-84f7da993d3e",
   "metadata": {},
   "outputs": [
    {
     "name": "stderr",
     "output_type": "stream",
     "text": [
      "Sampling: [y]\n"
     ]
    },
    {
     "data": {
      "text/html": [
       "\n",
       "<style>\n",
       "    /* Turns off some styling */\n",
       "    progress {\n",
       "        /* gets rid of default border in Firefox and Opera. */\n",
       "        border: none;\n",
       "        /* Needs to be in here for Safari polyfill so background images work as expected. */\n",
       "        background-size: auto;\n",
       "    }\n",
       "    progress:not([value]), progress:not([value])::-webkit-progress-bar {\n",
       "        background: repeating-linear-gradient(45deg, #7e7e7e, #7e7e7e 10px, #5c5c5c 10px, #5c5c5c 20px);\n",
       "    }\n",
       "    .progress-bar-interrupted, .progress-bar-interrupted::-webkit-progress-bar {\n",
       "        background: #F44336;\n",
       "    }\n",
       "</style>\n"
      ],
      "text/plain": [
       "<IPython.core.display.HTML object>"
      ]
     },
     "metadata": {},
     "output_type": "display_data"
    },
    {
     "data": {
      "text/html": [
       "\n",
       "    <div>\n",
       "      <progress value='40000' class='' max='40000' style='width:300px; height:20px; vertical-align: middle;'></progress>\n",
       "      100.00% [40000/40000 00:07&lt;00:00]\n",
       "    </div>\n",
       "    "
      ],
      "text/plain": [
       "<IPython.core.display.HTML object>"
      ]
     },
     "metadata": {},
     "output_type": "display_data"
    },
    {
     "name": "stderr",
     "output_type": "stream",
     "text": [
      "C:\\Users\\466131\\AppData\\Local\\anaconda3\\envs\\pymc_env\\Lib\\site-packages\\arviz\\stats\\stats.py:1351: UserWarning: Selecting first found group: predictions\n",
      "  warnings.warn(f\"Selecting first found group: {data.groups()[0]}\")\n",
      "Sampling: [y]\n"
     ]
    },
    {
     "data": {
      "text/html": [
       "\n",
       "<style>\n",
       "    /* Turns off some styling */\n",
       "    progress {\n",
       "        /* gets rid of default border in Firefox and Opera. */\n",
       "        border: none;\n",
       "        /* Needs to be in here for Safari polyfill so background images work as expected. */\n",
       "        background-size: auto;\n",
       "    }\n",
       "    progress:not([value]), progress:not([value])::-webkit-progress-bar {\n",
       "        background: repeating-linear-gradient(45deg, #7e7e7e, #7e7e7e 10px, #5c5c5c 10px, #5c5c5c 20px);\n",
       "    }\n",
       "    .progress-bar-interrupted, .progress-bar-interrupted::-webkit-progress-bar {\n",
       "        background: #F44336;\n",
       "    }\n",
       "</style>\n"
      ],
      "text/plain": [
       "<IPython.core.display.HTML object>"
      ]
     },
     "metadata": {},
     "output_type": "display_data"
    },
    {
     "data": {
      "text/html": [
       "\n",
       "    <div>\n",
       "      <progress value='40000' class='' max='40000' style='width:300px; height:20px; vertical-align: middle;'></progress>\n",
       "      100.00% [40000/40000 00:08&lt;00:00]\n",
       "    </div>\n",
       "    "
      ],
      "text/plain": [
       "<IPython.core.display.HTML object>"
      ]
     },
     "metadata": {},
     "output_type": "display_data"
    },
    {
     "name": "stderr",
     "output_type": "stream",
     "text": [
      "C:\\Users\\466131\\AppData\\Local\\anaconda3\\envs\\pymc_env\\Lib\\site-packages\\arviz\\stats\\stats.py:1351: UserWarning: Selecting first found group: predictions\n",
      "  warnings.warn(f\"Selecting first found group: {data.groups()[0]}\")\n"
     ]
    },
    {
     "name": "stdout",
     "output_type": "stream",
     "text": [
      "B has a 60.65536414182846 % impact on the fight with A.\n"
     ]
    }
   ],
   "source": [
    "#test\n",
    "\n",
    "os.chdir(\"C:/Users/466131/Documents/Baye\")\n",
    "data = pd.read_csv(\"MMAProject.csv\", index_col=0)\n",
    "\n",
    "X = data[[\"SA\",\"SD\",\"KO\",\"SS\",\"GI\"]].to_numpy()\n",
    "y = data[\"y\"].to_numpy()\n",
    "\n",
    "#Impact\n",
    "X_c = (X[7,:]-X[2,:])\n",
    "X_c = np.reshape(X_c, (-1, 1))\n",
    "X_c = X_c.T\n",
    "\n",
    "#Impact\n",
    "X_c2 = (X[2,:]-X[7,:])\n",
    "X_c2 = np.reshape(X_c2, (-1, 1))\n",
    "X_c2 = X_c2.T\n",
    "\n",
    "with m:        \n",
    "            n=26\n",
    "            pm.set_data({\"X_data\": X_c})\n",
    "            ppki = pm.sample_posterior_predictive(trace, predictions=True)\n",
    "            r = np.mean(az.summary(ppki,var_names=\"y\")['mean'].values)/n\n",
    "        \n",
    "with m:\n",
    "            n=26\n",
    "            pm.set_data({\"X_data\": X_c2})\n",
    "            ppki2 = pm.sample_posterior_predictive(trace, predictions=True)\n",
    "            r2 = np.mean(az.summary(ppki2,var_names=\"y\")['mean'].values)/n\n",
    "            \n",
    "with m:\n",
    "    if r>r2:\n",
    "        print(\"A has a \" +str(r/(r+r2)*100)+ \" % impact on the fight with B.\")\n",
    "    else:\n",
    "        print(\"B has a \" +str(r2/(r+r2)*100)+ \" % impact on the fight with A.\")"
   ]
  }
 ],
 "metadata": {
  "kernelspec": {
   "display_name": "Python [conda env:pymc_env]",
   "language": "python",
   "name": "conda-env-pymc_env-py"
  },
  "language_info": {
   "codemirror_mode": {
    "name": "ipython",
    "version": 3
   },
   "file_extension": ".py",
   "mimetype": "text/x-python",
   "name": "python",
   "nbconvert_exporter": "python",
   "pygments_lexer": "ipython3",
   "version": "3.11.8"
  }
 },
 "nbformat": 4,
 "nbformat_minor": 5
}
